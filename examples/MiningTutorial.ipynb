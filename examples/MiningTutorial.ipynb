{
 "cells": [
  {
   "cell_type": "markdown",
   "id": "fabf39e6",
   "metadata": {},
   "source": [
    "# Protein Graph Mining: Basic Usage"
   ]
  },
  {
   "cell_type": "markdown",
   "id": "37547a35",
   "metadata": {},
   "source": [
    "## Parsing"
   ]
  },
  {
   "cell_type": "markdown",
   "id": "80f2ab0c",
   "metadata": {},
   "source": [
    "The first step of graph mining with PyeMap is to create a `PDBGroup` object, and populate it `emap` objects for the PDBs of interest. Here, we'll fetch and parse a small set of flavoprotein PDBs."
   ]
  },
  {
   "cell_type": "code",
   "execution_count": 1,
   "id": "5769b093",
   "metadata": {},
   "outputs": [
    {
     "name": "stdout",
     "output_type": "stream",
     "text": [
      "Fetching PDB 1X0P from RSCB Database...\n",
      "Success!\n",
      "Parsing file: /Users/jamesrgayvert/Documents/work/emap/pyemap/examples/1X0P.pdb\n"
     ]
    },
    {
     "name": "stderr",
     "output_type": "stream",
     "text": [
      "/Users/jamesrgayvert/miniforge3/envs/rosettapy39/lib/python3.9/site-packages/Bio/PDB/StructureBuilder.py:89: PDBConstructionWarning: WARNING: Chain A is discontinuous at line 11957.\n",
      "  warnings.warn(\n",
      "/Users/jamesrgayvert/miniforge3/envs/rosettapy39/lib/python3.9/site-packages/Bio/PDB/StructureBuilder.py:89: PDBConstructionWarning: WARNING: Chain B is discontinuous at line 11984.\n",
      "  warnings.warn(\n",
      "/Users/jamesrgayvert/miniforge3/envs/rosettapy39/lib/python3.9/site-packages/Bio/PDB/StructureBuilder.py:89: PDBConstructionWarning: WARNING: Chain C is discontinuous at line 12011.\n",
      "  warnings.warn(\n",
      "/Users/jamesrgayvert/miniforge3/envs/rosettapy39/lib/python3.9/site-packages/Bio/PDB/StructureBuilder.py:89: PDBConstructionWarning: WARNING: Chain D is discontinuous at line 12038.\n",
      "  warnings.warn(\n",
      "/Users/jamesrgayvert/miniforge3/envs/rosettapy39/lib/python3.9/site-packages/Bio/PDB/StructureBuilder.py:89: PDBConstructionWarning: WARNING: Chain E is discontinuous at line 12065.\n",
      "  warnings.warn(\n",
      "/Users/jamesrgayvert/miniforge3/envs/rosettapy39/lib/python3.9/site-packages/Bio/PDB/StructureBuilder.py:89: PDBConstructionWarning: WARNING: Chain F is discontinuous at line 12092.\n",
      "  warnings.warn(\n",
      "/Users/jamesrgayvert/miniforge3/envs/rosettapy39/lib/python3.9/site-packages/Bio/PDB/StructureBuilder.py:89: PDBConstructionWarning: WARNING: Chain G is discontinuous at line 12119.\n",
      "  warnings.warn(\n",
      "/Users/jamesrgayvert/miniforge3/envs/rosettapy39/lib/python3.9/site-packages/Bio/PDB/StructureBuilder.py:89: PDBConstructionWarning: WARNING: Chain H is discontinuous at line 12146.\n",
      "  warnings.warn(\n",
      "/Users/jamesrgayvert/miniforge3/envs/rosettapy39/lib/python3.9/site-packages/Bio/PDB/StructureBuilder.py:89: PDBConstructionWarning: WARNING: Chain I is discontinuous at line 12173.\n",
      "  warnings.warn(\n",
      "/Users/jamesrgayvert/miniforge3/envs/rosettapy39/lib/python3.9/site-packages/Bio/PDB/StructureBuilder.py:89: PDBConstructionWarning: WARNING: Chain J is discontinuous at line 12200.\n",
      "  warnings.warn(\n",
      "/Users/jamesrgayvert/miniforge3/envs/rosettapy39/lib/python3.9/site-packages/Bio/PDB/StructureBuilder.py:89: PDBConstructionWarning: WARNING: Chain A is discontinuous at line 12227.\n",
      "  warnings.warn(\n",
      "/Users/jamesrgayvert/miniforge3/envs/rosettapy39/lib/python3.9/site-packages/Bio/PDB/StructureBuilder.py:89: PDBConstructionWarning: WARNING: Chain B is discontinuous at line 12266.\n",
      "  warnings.warn(\n",
      "/Users/jamesrgayvert/miniforge3/envs/rosettapy39/lib/python3.9/site-packages/Bio/PDB/StructureBuilder.py:89: PDBConstructionWarning: WARNING: Chain C is discontinuous at line 12298.\n",
      "  warnings.warn(\n",
      "/Users/jamesrgayvert/miniforge3/envs/rosettapy39/lib/python3.9/site-packages/Bio/PDB/StructureBuilder.py:89: PDBConstructionWarning: WARNING: Chain D is discontinuous at line 12328.\n",
      "  warnings.warn(\n",
      "/Users/jamesrgayvert/miniforge3/envs/rosettapy39/lib/python3.9/site-packages/Bio/PDB/StructureBuilder.py:89: PDBConstructionWarning: WARNING: Chain E is discontinuous at line 12353.\n",
      "  warnings.warn(\n",
      "/Users/jamesrgayvert/miniforge3/envs/rosettapy39/lib/python3.9/site-packages/Bio/PDB/StructureBuilder.py:89: PDBConstructionWarning: WARNING: Chain F is discontinuous at line 12375.\n",
      "  warnings.warn(\n",
      "/Users/jamesrgayvert/miniforge3/envs/rosettapy39/lib/python3.9/site-packages/Bio/PDB/StructureBuilder.py:89: PDBConstructionWarning: WARNING: Chain G is discontinuous at line 12410.\n",
      "  warnings.warn(\n",
      "/Users/jamesrgayvert/miniforge3/envs/rosettapy39/lib/python3.9/site-packages/Bio/PDB/StructureBuilder.py:89: PDBConstructionWarning: WARNING: Chain H is discontinuous at line 12439.\n",
      "  warnings.warn(\n",
      "/Users/jamesrgayvert/miniforge3/envs/rosettapy39/lib/python3.9/site-packages/Bio/PDB/StructureBuilder.py:89: PDBConstructionWarning: WARNING: Chain I is discontinuous at line 12461.\n",
      "  warnings.warn(\n",
      "/Users/jamesrgayvert/miniforge3/envs/rosettapy39/lib/python3.9/site-packages/Bio/PDB/StructureBuilder.py:89: PDBConstructionWarning: WARNING: Chain J is discontinuous at line 12481.\n",
      "  warnings.warn(\n"
     ]
    },
    {
     "name": "stdout",
     "output_type": "stream",
     "text": [
      "Identified 10 non-protein ET active moieties.\n",
      "Fetching PDB 1DNP from RSCB Database...\n",
      "Success!\n",
      "Parsing file: /Users/jamesrgayvert/Documents/work/emap/pyemap/examples/1DNP.pdb\n"
     ]
    },
    {
     "name": "stderr",
     "output_type": "stream",
     "text": [
      "/Users/jamesrgayvert/miniforge3/envs/rosettapy39/lib/python3.9/site-packages/Bio/PDB/StructureBuilder.py:89: PDBConstructionWarning: WARNING: Chain A is discontinuous at line 8007.\n",
      "  warnings.warn(\n",
      "/Users/jamesrgayvert/miniforge3/envs/rosettapy39/lib/python3.9/site-packages/Bio/PDB/StructureBuilder.py:89: PDBConstructionWarning: WARNING: Chain B is discontinuous at line 8093.\n",
      "  warnings.warn(\n",
      "/Users/jamesrgayvert/miniforge3/envs/rosettapy39/lib/python3.9/site-packages/Bio/PDB/StructureBuilder.py:89: PDBConstructionWarning: WARNING: Chain A is discontinuous at line 8179.\n",
      "  warnings.warn(\n",
      "/Users/jamesrgayvert/miniforge3/envs/rosettapy39/lib/python3.9/site-packages/Bio/PDB/StructureBuilder.py:89: PDBConstructionWarning: WARNING: Chain B is discontinuous at line 8367.\n",
      "  warnings.warn(\n"
     ]
    },
    {
     "name": "stdout",
     "output_type": "stream",
     "text": [
      "Identified 6 non-protein ET active moieties.\n",
      "Fetching PDB 1EFP from RSCB Database...\n",
      "Success!\n",
      "Parsing file: /Users/jamesrgayvert/Documents/work/emap/pyemap/examples/1EFP.pdb\n",
      "Identified 6 non-protein ET active moieties.\n",
      "Fetching PDB 1G28 from RSCB Database...\n"
     ]
    },
    {
     "name": "stderr",
     "output_type": "stream",
     "text": [
      "/Users/jamesrgayvert/miniforge3/envs/rosettapy39/lib/python3.9/site-packages/Bio/PDB/StructureBuilder.py:89: PDBConstructionWarning: WARNING: Chain A is discontinuous at line 8673.\n",
      "  warnings.warn(\n",
      "/Users/jamesrgayvert/miniforge3/envs/rosettapy39/lib/python3.9/site-packages/Bio/PDB/StructureBuilder.py:89: PDBConstructionWarning: WARNING: Chain C is discontinuous at line 8749.\n",
      "  warnings.warn(\n",
      "/Users/jamesrgayvert/miniforge3/envs/rosettapy39/lib/python3.9/site-packages/Bio/PDB/StructureBuilder.py:89: PDBConstructionWarning: WARNING: Chain A is discontinuous at line 8825.\n",
      "  warnings.warn(\n",
      "/Users/jamesrgayvert/miniforge3/envs/rosettapy39/lib/python3.9/site-packages/Bio/PDB/StructureBuilder.py:89: PDBConstructionWarning: WARNING: Chain B is discontinuous at line 8853.\n",
      "  warnings.warn(\n",
      "/Users/jamesrgayvert/miniforge3/envs/rosettapy39/lib/python3.9/site-packages/Bio/PDB/StructureBuilder.py:89: PDBConstructionWarning: WARNING: Chain C is discontinuous at line 8876.\n",
      "  warnings.warn(\n",
      "/Users/jamesrgayvert/miniforge3/envs/rosettapy39/lib/python3.9/site-packages/Bio/PDB/StructureBuilder.py:89: PDBConstructionWarning: WARNING: Chain D is discontinuous at line 8907.\n",
      "  warnings.warn(\n"
     ]
    },
    {
     "name": "stdout",
     "output_type": "stream",
     "text": [
      "Success!\n",
      "Parsing file: /Users/jamesrgayvert/Documents/work/emap/pyemap/examples/1G28.pdb\n",
      "Identified 4 non-protein ET active moieties.\n",
      "Fetching PDB 1IQR from RSCB Database...\n"
     ]
    },
    {
     "name": "stderr",
     "output_type": "stream",
     "text": [
      "/Users/jamesrgayvert/miniforge3/envs/rosettapy39/lib/python3.9/site-packages/Bio/PDB/StructureBuilder.py:89: PDBConstructionWarning: WARNING: Chain A is discontinuous at line 3726.\n",
      "  warnings.warn(\n",
      "/Users/jamesrgayvert/miniforge3/envs/rosettapy39/lib/python3.9/site-packages/Bio/PDB/StructureBuilder.py:89: PDBConstructionWarning: WARNING: Chain B is discontinuous at line 3757.\n",
      "  warnings.warn(\n",
      "/Users/jamesrgayvert/miniforge3/envs/rosettapy39/lib/python3.9/site-packages/Bio/PDB/StructureBuilder.py:89: PDBConstructionWarning: WARNING: Chain C is discontinuous at line 3788.\n",
      "  warnings.warn(\n",
      "/Users/jamesrgayvert/miniforge3/envs/rosettapy39/lib/python3.9/site-packages/Bio/PDB/StructureBuilder.py:89: PDBConstructionWarning: WARNING: Chain D is discontinuous at line 3819.\n",
      "  warnings.warn(\n",
      "/Users/jamesrgayvert/miniforge3/envs/rosettapy39/lib/python3.9/site-packages/Bio/PDB/StructureBuilder.py:89: PDBConstructionWarning: WARNING: Chain A is discontinuous at line 3850.\n",
      "  warnings.warn(\n",
      "/Users/jamesrgayvert/miniforge3/envs/rosettapy39/lib/python3.9/site-packages/Bio/PDB/StructureBuilder.py:89: PDBConstructionWarning: WARNING: Chain B is discontinuous at line 3866.\n",
      "  warnings.warn(\n",
      "/Users/jamesrgayvert/miniforge3/envs/rosettapy39/lib/python3.9/site-packages/Bio/PDB/StructureBuilder.py:89: PDBConstructionWarning: WARNING: Chain C is discontinuous at line 3876.\n",
      "  warnings.warn(\n",
      "/Users/jamesrgayvert/miniforge3/envs/rosettapy39/lib/python3.9/site-packages/Bio/PDB/StructureBuilder.py:89: PDBConstructionWarning: WARNING: Chain D is discontinuous at line 3890.\n",
      "  warnings.warn(\n"
     ]
    },
    {
     "name": "stdout",
     "output_type": "stream",
     "text": [
      "Success!\n",
      "Parsing file: /Users/jamesrgayvert/Documents/work/emap/pyemap/examples/1IQR.pdb\n",
      "Identified 2 non-protein ET active moieties.\n",
      "Fetching PDB 1IQU from RSCB Database...\n",
      "Success!\n",
      "Parsing file: /Users/jamesrgayvert/Documents/work/emap/pyemap/examples/1IQU.pdb\n",
      "Identified 3 non-protein ET active moieties.\n",
      "Fetching PDB 1NP7 from RSCB Database...\n",
      "Success!\n",
      "Parsing file: /Users/jamesrgayvert/Documents/work/emap/pyemap/examples/1NP7.pdb\n",
      "Identified 4 non-protein ET active moieties.\n",
      "Fetching PDB 1O96 from RSCB Database...\n"
     ]
    },
    {
     "name": "stderr",
     "output_type": "stream",
     "text": [
      "/Users/jamesrgayvert/miniforge3/envs/rosettapy39/lib/python3.9/site-packages/Bio/PDB/StructureBuilder.py:89: PDBConstructionWarning: WARNING: Chain A is discontinuous at line 8597.\n",
      "  warnings.warn(\n",
      "/Users/jamesrgayvert/miniforge3/envs/rosettapy39/lib/python3.9/site-packages/Bio/PDB/StructureBuilder.py:89: PDBConstructionWarning: WARNING: Chain B is discontinuous at line 8660.\n",
      "  warnings.warn(\n",
      "/Users/jamesrgayvert/miniforge3/envs/rosettapy39/lib/python3.9/site-packages/Bio/PDB/StructureBuilder.py:89: PDBConstructionWarning: WARNING: Chain A is discontinuous at line 8718.\n",
      "  warnings.warn(\n",
      "/Users/jamesrgayvert/miniforge3/envs/rosettapy39/lib/python3.9/site-packages/Bio/PDB/StructureBuilder.py:89: PDBConstructionWarning: WARNING: Chain B is discontinuous at line 8919.\n",
      "  warnings.warn(\n"
     ]
    },
    {
     "name": "stdout",
     "output_type": "stream",
     "text": [
      "Success!\n",
      "Parsing file: /Users/jamesrgayvert/Documents/work/emap/pyemap/examples/1O96.pdb\n"
     ]
    },
    {
     "name": "stderr",
     "output_type": "stream",
     "text": [
      "/Users/jamesrgayvert/miniforge3/envs/rosettapy39/lib/python3.9/site-packages/Bio/PDB/StructureBuilder.py:89: PDBConstructionWarning: WARNING: Chain A is discontinuous at line 18212.\n",
      "  warnings.warn(\n",
      "/Users/jamesrgayvert/miniforge3/envs/rosettapy39/lib/python3.9/site-packages/Bio/PDB/StructureBuilder.py:89: PDBConstructionWarning: WARNING: Chain B is discontinuous at line 18235.\n",
      "  warnings.warn(\n",
      "/Users/jamesrgayvert/miniforge3/envs/rosettapy39/lib/python3.9/site-packages/Bio/PDB/StructureBuilder.py:89: PDBConstructionWarning: WARNING: Chain C is discontinuous at line 18288.\n",
      "  warnings.warn(\n",
      "/Users/jamesrgayvert/miniforge3/envs/rosettapy39/lib/python3.9/site-packages/Bio/PDB/StructureBuilder.py:89: PDBConstructionWarning: WARNING: Chain D is discontinuous at line 18311.\n",
      "  warnings.warn(\n",
      "/Users/jamesrgayvert/miniforge3/envs/rosettapy39/lib/python3.9/site-packages/Bio/PDB/StructureBuilder.py:89: PDBConstructionWarning: WARNING: Chain E is discontinuous at line 18364.\n",
      "  warnings.warn(\n",
      "/Users/jamesrgayvert/miniforge3/envs/rosettapy39/lib/python3.9/site-packages/Bio/PDB/StructureBuilder.py:89: PDBConstructionWarning: WARNING: Chain F is discontinuous at line 18387.\n",
      "  warnings.warn(\n",
      "/Users/jamesrgayvert/miniforge3/envs/rosettapy39/lib/python3.9/site-packages/Bio/PDB/StructureBuilder.py:89: PDBConstructionWarning: WARNING: Chain Q is discontinuous at line 18440.\n",
      "  warnings.warn(\n",
      "/Users/jamesrgayvert/miniforge3/envs/rosettapy39/lib/python3.9/site-packages/Bio/PDB/StructureBuilder.py:89: PDBConstructionWarning: WARNING: Chain Z is discontinuous at line 18463.\n",
      "  warnings.warn(\n"
     ]
    },
    {
     "name": "stdout",
     "output_type": "stream",
     "text": [
      "Identified 12 non-protein ET active moieties.\n",
      "Fetching PDB 1O97 from RSCB Database...\n",
      "Success!\n",
      "Parsing file: /Users/jamesrgayvert/Documents/work/emap/pyemap/examples/1O97.pdb\n",
      "Identified 3 non-protein ET active moieties.\n",
      "Fetching PDB 1QNF from RSCB Database...\n"
     ]
    },
    {
     "name": "stderr",
     "output_type": "stream",
     "text": [
      "/Users/jamesrgayvert/miniforge3/envs/rosettapy39/lib/python3.9/site-packages/Bio/PDB/StructureBuilder.py:89: PDBConstructionWarning: WARNING: Chain C is discontinuous at line 4831.\n",
      "  warnings.warn(\n",
      "/Users/jamesrgayvert/miniforge3/envs/rosettapy39/lib/python3.9/site-packages/Bio/PDB/StructureBuilder.py:89: PDBConstructionWarning: WARNING: Chain D is discontinuous at line 4854.\n",
      "  warnings.warn(\n",
      "/Users/jamesrgayvert/miniforge3/envs/rosettapy39/lib/python3.9/site-packages/Bio/PDB/StructureBuilder.py:89: PDBConstructionWarning: WARNING: Chain C is discontinuous at line 4907.\n",
      "  warnings.warn(\n",
      "/Users/jamesrgayvert/miniforge3/envs/rosettapy39/lib/python3.9/site-packages/Bio/PDB/StructureBuilder.py:89: PDBConstructionWarning: WARNING: Chain D is discontinuous at line 5194.\n",
      "  warnings.warn(\n"
     ]
    },
    {
     "name": "stdout",
     "output_type": "stream",
     "text": [
      "Success!\n",
      "Parsing file: /Users/jamesrgayvert/Documents/work/emap/pyemap/examples/1QNF.pdb\n",
      "Identified 3 non-protein ET active moieties.\n",
      "Fetching PDB 1U3C from RSCB Database...\n",
      "Success!\n",
      "Parsing file: /Users/jamesrgayvert/Documents/work/emap/pyemap/examples/1U3C.pdb\n",
      "Identified 2 non-protein ET active moieties.\n",
      "Fetching PDB 1U3D from RSCB Database...\n",
      "Success!\n",
      "Parsing file: /Users/jamesrgayvert/Documents/work/emap/pyemap/examples/1U3D.pdb\n",
      "Identified 3 non-protein ET active moieties.\n",
      "Fetching PDB 2IYG from RSCB Database...\n",
      "Success!\n",
      "Parsing file: /Users/jamesrgayvert/Documents/work/emap/pyemap/examples/2IYG.pdb\n",
      "Identified 2 non-protein ET active moieties.\n",
      "Fetching PDB 2J4D from RSCB Database...\n"
     ]
    },
    {
     "name": "stderr",
     "output_type": "stream",
     "text": [
      "/Users/jamesrgayvert/miniforge3/envs/rosettapy39/lib/python3.9/site-packages/Bio/PDB/StructureBuilder.py:89: PDBConstructionWarning: WARNING: Chain A is discontinuous at line 2211.\n",
      "  warnings.warn(\n",
      "/Users/jamesrgayvert/miniforge3/envs/rosettapy39/lib/python3.9/site-packages/Bio/PDB/StructureBuilder.py:89: PDBConstructionWarning: WARNING: Chain B is discontinuous at line 2250.\n",
      "  warnings.warn(\n",
      "/Users/jamesrgayvert/miniforge3/envs/rosettapy39/lib/python3.9/site-packages/Bio/PDB/StructureBuilder.py:89: PDBConstructionWarning: WARNING: Chain A is discontinuous at line 2289.\n",
      "  warnings.warn(\n",
      "/Users/jamesrgayvert/miniforge3/envs/rosettapy39/lib/python3.9/site-packages/Bio/PDB/StructureBuilder.py:89: PDBConstructionWarning: WARNING: Chain B is discontinuous at line 2318.\n",
      "  warnings.warn(\n"
     ]
    },
    {
     "name": "stdout",
     "output_type": "stream",
     "text": [
      "Success!\n",
      "Parsing file: /Users/jamesrgayvert/Documents/work/emap/pyemap/examples/2J4D.pdb\n",
      "Identified 8 non-protein ET active moieties.\n",
      "Fetching PDB 2WB2 from RSCB Database...\n"
     ]
    },
    {
     "name": "stderr",
     "output_type": "stream",
     "text": [
      "/Users/jamesrgayvert/miniforge3/envs/rosettapy39/lib/python3.9/site-packages/Bio/PDB/StructureBuilder.py:89: PDBConstructionWarning: WARNING: Chain A is discontinuous at line 8830.\n",
      "  warnings.warn(\n",
      "/Users/jamesrgayvert/miniforge3/envs/rosettapy39/lib/python3.9/site-packages/Bio/PDB/StructureBuilder.py:89: PDBConstructionWarning: WARNING: Chain B is discontinuous at line 8916.\n",
      "  warnings.warn(\n",
      "/Users/jamesrgayvert/miniforge3/envs/rosettapy39/lib/python3.9/site-packages/Bio/PDB/StructureBuilder.py:89: PDBConstructionWarning: WARNING: Chain A is discontinuous at line 9002.\n",
      "  warnings.warn(\n",
      "/Users/jamesrgayvert/miniforge3/envs/rosettapy39/lib/python3.9/site-packages/Bio/PDB/StructureBuilder.py:89: PDBConstructionWarning: WARNING: Chain B is discontinuous at line 9439.\n",
      "  warnings.warn(\n"
     ]
    },
    {
     "name": "stdout",
     "output_type": "stream",
     "text": [
      "Success!\n",
      "Parsing file: /Users/jamesrgayvert/Documents/work/emap/pyemap/examples/2WB2.pdb\n",
      "Identified 31 non-protein ET active moieties.\n"
     ]
    },
    {
     "name": "stderr",
     "output_type": "stream",
     "text": [
      "/Users/jamesrgayvert/miniforge3/envs/rosettapy39/lib/python3.9/site-packages/Bio/PDB/StructureBuilder.py:89: PDBConstructionWarning: WARNING: Chain A is discontinuous at line 5734.\n",
      "  warnings.warn(\n"
     ]
    },
    {
     "name": "stdout",
     "output_type": "stream",
     "text": [
      "Fetching PDB 2Z6C from RSCB Database...\n",
      "Success!\n",
      "Parsing file: /Users/jamesrgayvert/Documents/work/emap/pyemap/examples/2Z6C.pdb\n",
      "Identified 2 non-protein ET active moieties.\n",
      "Fetching PDB 3FY4 from RSCB Database...\n"
     ]
    },
    {
     "name": "stderr",
     "output_type": "stream",
     "text": [
      "/Users/jamesrgayvert/miniforge3/envs/rosettapy39/lib/python3.9/site-packages/Bio/PDB/StructureBuilder.py:89: PDBConstructionWarning: WARNING: Chain A is discontinuous at line 2342.\n",
      "  warnings.warn(\n",
      "/Users/jamesrgayvert/miniforge3/envs/rosettapy39/lib/python3.9/site-packages/Bio/PDB/StructureBuilder.py:89: PDBConstructionWarning: WARNING: Chain B is discontinuous at line 2373.\n",
      "  warnings.warn(\n",
      "/Users/jamesrgayvert/miniforge3/envs/rosettapy39/lib/python3.9/site-packages/Bio/PDB/StructureBuilder.py:89: PDBConstructionWarning: WARNING: Chain A is discontinuous at line 2404.\n",
      "  warnings.warn(\n",
      "/Users/jamesrgayvert/miniforge3/envs/rosettapy39/lib/python3.9/site-packages/Bio/PDB/StructureBuilder.py:89: PDBConstructionWarning: WARNING: Chain B is discontinuous at line 2483.\n",
      "  warnings.warn(\n"
     ]
    },
    {
     "name": "stdout",
     "output_type": "stream",
     "text": [
      "Success!\n",
      "Parsing file: /Users/jamesrgayvert/Documents/work/emap/pyemap/examples/3FY4.pdb\n"
     ]
    },
    {
     "name": "stderr",
     "output_type": "stream",
     "text": [
      "/Users/jamesrgayvert/miniforge3/envs/rosettapy39/lib/python3.9/site-packages/Bio/PDB/StructureBuilder.py:89: PDBConstructionWarning: WARNING: Chain A is discontinuous at line 13425.\n",
      "  warnings.warn(\n",
      "/Users/jamesrgayvert/miniforge3/envs/rosettapy39/lib/python3.9/site-packages/Bio/PDB/StructureBuilder.py:89: PDBConstructionWarning: WARNING: Chain C is discontinuous at line 13510.\n",
      "  warnings.warn(\n",
      "/Users/jamesrgayvert/miniforge3/envs/rosettapy39/lib/python3.9/site-packages/Bio/PDB/StructureBuilder.py:89: PDBConstructionWarning: WARNING: Chain B is discontinuous at line 13590.\n",
      "  warnings.warn(\n",
      "/Users/jamesrgayvert/miniforge3/envs/rosettapy39/lib/python3.9/site-packages/Bio/PDB/StructureBuilder.py:89: PDBConstructionWarning: WARNING: Chain A is discontinuous at line 13685.\n",
      "  warnings.warn(\n",
      "/Users/jamesrgayvert/miniforge3/envs/rosettapy39/lib/python3.9/site-packages/Bio/PDB/StructureBuilder.py:89: PDBConstructionWarning: WARNING: Chain C is discontinuous at line 13929.\n",
      "  warnings.warn(\n",
      "/Users/jamesrgayvert/miniforge3/envs/rosettapy39/lib/python3.9/site-packages/Bio/PDB/StructureBuilder.py:89: PDBConstructionWarning: WARNING: Chain B is discontinuous at line 14176.\n",
      "  warnings.warn(\n"
     ]
    },
    {
     "name": "stdout",
     "output_type": "stream",
     "text": [
      "Identified 16 non-protein ET active moieties.\n",
      "Fetching PDB 3ZXS from RSCB Database...\n",
      "Success!\n",
      "Parsing file: /Users/jamesrgayvert/Documents/work/emap/pyemap/examples/3ZXS.pdb\n"
     ]
    },
    {
     "name": "stderr",
     "output_type": "stream",
     "text": [
      "/Users/jamesrgayvert/miniforge3/envs/rosettapy39/lib/python3.9/site-packages/Bio/PDB/StructureBuilder.py:89: PDBConstructionWarning: WARNING: Chain A is discontinuous at line 25427.\n",
      "  warnings.warn(\n",
      "/Users/jamesrgayvert/miniforge3/envs/rosettapy39/lib/python3.9/site-packages/Bio/PDB/StructureBuilder.py:89: PDBConstructionWarning: WARNING: Chain B is discontinuous at line 25513.\n",
      "  warnings.warn(\n",
      "/Users/jamesrgayvert/miniforge3/envs/rosettapy39/lib/python3.9/site-packages/Bio/PDB/StructureBuilder.py:89: PDBConstructionWarning: WARNING: Chain C is discontinuous at line 25599.\n",
      "  warnings.warn(\n",
      "/Users/jamesrgayvert/miniforge3/envs/rosettapy39/lib/python3.9/site-packages/Bio/PDB/StructureBuilder.py:89: PDBConstructionWarning: WARNING: Chain A is discontinuous at line 25685.\n",
      "  warnings.warn(\n",
      "/Users/jamesrgayvert/miniforge3/envs/rosettapy39/lib/python3.9/site-packages/Bio/PDB/StructureBuilder.py:89: PDBConstructionWarning: WARNING: Chain B is discontinuous at line 26042.\n",
      "  warnings.warn(\n",
      "/Users/jamesrgayvert/miniforge3/envs/rosettapy39/lib/python3.9/site-packages/Bio/PDB/StructureBuilder.py:89: PDBConstructionWarning: WARNING: Chain C is discontinuous at line 26338.\n",
      "  warnings.warn(\n"
     ]
    },
    {
     "name": "stdout",
     "output_type": "stream",
     "text": [
      "Identified 12 non-protein ET active moieties.\n",
      "Fetching PDB 4EER from RSCB Database...\n",
      "Success!\n",
      "Parsing file: /Users/jamesrgayvert/Documents/work/emap/pyemap/examples/4EER.pdb\n",
      "Identified 1 non-protein ET active moieties.\n",
      "Fetching PDB 4GU5 from RSCB Database...\n",
      "Success!\n",
      "Parsing file: /Users/jamesrgayvert/Documents/work/emap/pyemap/examples/4GU5.pdb\n"
     ]
    },
    {
     "name": "stderr",
     "output_type": "stream",
     "text": [
      "/Users/jamesrgayvert/miniforge3/envs/rosettapy39/lib/python3.9/site-packages/Bio/PDB/StructureBuilder.py:89: PDBConstructionWarning: WARNING: Chain A is discontinuous at line 9311.\n",
      "  warnings.warn(\n",
      "/Users/jamesrgayvert/miniforge3/envs/rosettapy39/lib/python3.9/site-packages/Bio/PDB/StructureBuilder.py:89: PDBConstructionWarning: WARNING: Chain B is discontinuous at line 9365.\n",
      "  warnings.warn(\n",
      "/Users/jamesrgayvert/miniforge3/envs/rosettapy39/lib/python3.9/site-packages/Bio/PDB/StructureBuilder.py:89: PDBConstructionWarning: WARNING: Chain A is discontinuous at line 9419.\n",
      "  warnings.warn(\n",
      "/Users/jamesrgayvert/miniforge3/envs/rosettapy39/lib/python3.9/site-packages/Bio/PDB/StructureBuilder.py:89: PDBConstructionWarning: WARNING: Chain B is discontinuous at line 9584.\n",
      "  warnings.warn(\n"
     ]
    },
    {
     "name": "stdout",
     "output_type": "stream",
     "text": [
      "Identified 4 non-protein ET active moieties.\n",
      "Fetching PDB 4I6G from RSCB Database...\n",
      "Success!\n",
      "Parsing file: /Users/jamesrgayvert/Documents/work/emap/pyemap/examples/4I6G.pdb\n"
     ]
    },
    {
     "name": "stderr",
     "output_type": "stream",
     "text": [
      "/Users/jamesrgayvert/miniforge3/envs/rosettapy39/lib/python3.9/site-packages/Bio/PDB/StructureBuilder.py:89: PDBConstructionWarning: WARNING: Chain A is discontinuous at line 16540.\n",
      "  warnings.warn(\n",
      "/Users/jamesrgayvert/miniforge3/envs/rosettapy39/lib/python3.9/site-packages/Bio/PDB/StructureBuilder.py:89: PDBConstructionWarning: WARNING: Chain B is discontinuous at line 16646.\n",
      "  warnings.warn(\n",
      "/Users/jamesrgayvert/miniforge3/envs/rosettapy39/lib/python3.9/site-packages/Bio/PDB/StructureBuilder.py:89: PDBConstructionWarning: WARNING: Chain A is discontinuous at line 16752.\n",
      "  warnings.warn(\n",
      "/Users/jamesrgayvert/miniforge3/envs/rosettapy39/lib/python3.9/site-packages/Bio/PDB/StructureBuilder.py:89: PDBConstructionWarning: WARNING: Chain B is discontinuous at line 16902.\n",
      "  warnings.warn(\n"
     ]
    },
    {
     "name": "stdout",
     "output_type": "stream",
     "text": [
      "Identified 4 non-protein ET active moieties.\n",
      "Fetching PDB 4U63 from RSCB Database...\n",
      "Success!\n",
      "Parsing file: /Users/jamesrgayvert/Documents/work/emap/pyemap/examples/4U63.pdb\n",
      "Identified 3 non-protein ET active moieties.\n",
      "Fetching PDB 6FN2 from RSCB Database...\n",
      "Success!\n",
      "Parsing file: /Users/jamesrgayvert/Documents/work/emap/pyemap/examples/6FN2.pdb\n",
      "Identified 3 non-protein ET active moieties.\n",
      "Fetching PDB 6KII from RSCB Database...\n",
      "Success!\n",
      "Parsing file: /Users/jamesrgayvert/Documents/work/emap/pyemap/examples/6KII.pdb\n",
      "Identified 4 non-protein ET active moieties.\n",
      "Fetching PDB 6LZ3 from RSCB Database...\n",
      "Success!\n",
      "Parsing file: /Users/jamesrgayvert/Documents/work/emap/pyemap/examples/6LZ3.pdb\n"
     ]
    },
    {
     "name": "stderr",
     "output_type": "stream",
     "text": [
      "/Users/jamesrgayvert/miniforge3/envs/rosettapy39/lib/python3.9/site-packages/Bio/PDB/StructureBuilder.py:89: PDBConstructionWarning: WARNING: Chain A is discontinuous at line 17212.\n",
      "  warnings.warn(\n",
      "/Users/jamesrgayvert/miniforge3/envs/rosettapy39/lib/python3.9/site-packages/Bio/PDB/StructureBuilder.py:89: PDBConstructionWarning: WARNING: Chain B is discontinuous at line 17265.\n",
      "  warnings.warn(\n",
      "/Users/jamesrgayvert/miniforge3/envs/rosettapy39/lib/python3.9/site-packages/Bio/PDB/StructureBuilder.py:89: PDBConstructionWarning: WARNING: Chain C is discontinuous at line 17318.\n",
      "  warnings.warn(\n",
      "/Users/jamesrgayvert/miniforge3/envs/rosettapy39/lib/python3.9/site-packages/Bio/PDB/StructureBuilder.py:89: PDBConstructionWarning: WARNING: Chain D is discontinuous at line 17371.\n",
      "  warnings.warn(\n"
     ]
    },
    {
     "name": "stdout",
     "output_type": "stream",
     "text": [
      "Identified 8 non-protein ET active moieties.\n",
      "Fetching PDB 6PU0 from RSCB Database...\n",
      "Success!\n",
      "Parsing file: /Users/jamesrgayvert/Documents/work/emap/pyemap/examples/6PU0.pdb\n",
      "Identified 2 non-protein ET active moieties.\n",
      "Fetching PDB 6RKF from RSCB Database...\n",
      "Success!\n",
      "Parsing file: /Users/jamesrgayvert/Documents/work/emap/pyemap/examples/6RKF.pdb\n",
      "Identified 12 non-protein ET active moieties.\n"
     ]
    },
    {
     "name": "stderr",
     "output_type": "stream",
     "text": [
      "/Users/jamesrgayvert/miniforge3/envs/rosettapy39/lib/python3.9/site-packages/Bio/PDB/StructureBuilder.py:89: PDBConstructionWarning: WARNING: Chain A is discontinuous at line 32953.\n",
      "  warnings.warn(\n",
      "/Users/jamesrgayvert/miniforge3/envs/rosettapy39/lib/python3.9/site-packages/Bio/PDB/StructureBuilder.py:89: PDBConstructionWarning: WARNING: Chain B is discontinuous at line 33025.\n",
      "  warnings.warn(\n",
      "/Users/jamesrgayvert/miniforge3/envs/rosettapy39/lib/python3.9/site-packages/Bio/PDB/StructureBuilder.py:89: PDBConstructionWarning: WARNING: Chain C is discontinuous at line 33084.\n",
      "  warnings.warn(\n",
      "/Users/jamesrgayvert/miniforge3/envs/rosettapy39/lib/python3.9/site-packages/Bio/PDB/StructureBuilder.py:89: PDBConstructionWarning: WARNING: Chain D is discontinuous at line 33151.\n",
      "  warnings.warn(\n",
      "/Users/jamesrgayvert/miniforge3/envs/rosettapy39/lib/python3.9/site-packages/Bio/PDB/StructureBuilder.py:89: PDBConstructionWarning: WARNING: Chain E is discontinuous at line 33210.\n",
      "  warnings.warn(\n",
      "/Users/jamesrgayvert/miniforge3/envs/rosettapy39/lib/python3.9/site-packages/Bio/PDB/StructureBuilder.py:89: PDBConstructionWarning: WARNING: Chain F is discontinuous at line 33269.\n",
      "  warnings.warn(\n",
      "/Users/jamesrgayvert/miniforge3/envs/rosettapy39/lib/python3.9/site-packages/Bio/PDB/StructureBuilder.py:89: PDBConstructionWarning: WARNING: Chain A is discontinuous at line 33341.\n",
      "  warnings.warn(\n",
      "/Users/jamesrgayvert/miniforge3/envs/rosettapy39/lib/python3.9/site-packages/Bio/PDB/StructureBuilder.py:89: PDBConstructionWarning: WARNING: Chain B is discontinuous at line 33376.\n",
      "  warnings.warn(\n",
      "/Users/jamesrgayvert/miniforge3/envs/rosettapy39/lib/python3.9/site-packages/Bio/PDB/StructureBuilder.py:89: PDBConstructionWarning: WARNING: Chain C is discontinuous at line 33411.\n",
      "  warnings.warn(\n",
      "/Users/jamesrgayvert/miniforge3/envs/rosettapy39/lib/python3.9/site-packages/Bio/PDB/StructureBuilder.py:89: PDBConstructionWarning: WARNING: Chain D is discontinuous at line 33436.\n",
      "  warnings.warn(\n",
      "/Users/jamesrgayvert/miniforge3/envs/rosettapy39/lib/python3.9/site-packages/Bio/PDB/StructureBuilder.py:89: PDBConstructionWarning: WARNING: Chain E is discontinuous at line 33463.\n",
      "  warnings.warn(\n",
      "/Users/jamesrgayvert/miniforge3/envs/rosettapy39/lib/python3.9/site-packages/Bio/PDB/StructureBuilder.py:89: PDBConstructionWarning: WARNING: Chain F is discontinuous at line 33489.\n",
      "  warnings.warn(\n"
     ]
    }
   ],
   "source": [
    "import pyemap \n",
    "from pyemap.graph_mining import PDBGroup \n",
    "pdb_ids = ['1X0P', '1DNP', '1EFP', '1G28', '1IQR', '1IQU', '1NP7', '1O96', '1O97', '1QNF', '1U3C', '1U3D', '2IYG', '2J4D', '2WB2', '2Z6C', '3FY4', '3ZXS', '4EER', '4GU5', '4I6G', '4U63', '6FN2', '6KII', '6LZ3', '6PU0', '6RKF'] \n",
    "pg = PDBGroup('My Group') \n",
    "for pdb in pdb_ids: \n",
    "    pg.add_emap(pyemap.fetch_and_parse(pdb)) "
   ]
  },
  {
   "cell_type": "markdown",
   "id": "ee4c446f",
   "metadata": {},
   "source": [
    "## Generating Protein Graphs"
   ]
  },
  {
   "cell_type": "markdown",
   "id": "4863f863",
   "metadata": {},
   "source": [
    "The next step is to generate the graphs for each PDB. One can specify the chains, ET active moieties, residues, and any other kwargs from `pyemap.process`."
   ]
  },
  {
   "cell_type": "code",
   "execution_count": 2,
   "id": "500824ac",
   "metadata": {},
   "outputs": [],
   "source": [
    "process_kwargs = {'sdef': None, 'dist_def': 'COM', 'rsa_thresh': 0.05, 'rd_thresh': 3.03, 'distance_cutoff': 20.0, 'percent_edges': 1.0, 'edge_prune': 'DEGREE', 'num_st_dev_edges': 1.0, 'coef_alpha': 1.0, 'exp_beta': 2.3, 'r_offset': 0.0} \n",
    "chains = {'1X0P': ['A'], '1DNP': ['A'], '1EFP': ['A'], '1G28': ['A'], '1IQR': ['A'], '1IQU': ['A'], '1NP7': ['A'], '1O96': ['A'], '1O97': ['C'], '1QNF': ['A'], '1U3C': ['A'], '1U3D': ['A'], '2IYG': ['A'], '2J4D': ['A'], '2WB2': ['A'], '2Z6C': ['A'], '3FY4': ['A'], '3ZXS': ['A'], '4EER': ['A'], '4GU5': ['A'], '4I6G': ['A'], '4U63': ['A'], '6FN2': ['A'], '6KII': ['A'], '6LZ3': ['A'], '6PU0': ['A'], '6RKF': ['A']} \n",
    "include_residues = ['W', 'Y'] \n",
    "included_eta_moieties = {'1X0P': ['FAD9150(A)'], '1DNP': ['FAD472(A)-1', 'FAD472(A)-2', 'MHF473(A)'], '1EFP': ['FAD399(A)-1', 'FAD399(A)-2', 'AMP400(A)'], '1G28': ['FMN1033(A)'], '1IQR': ['FAD421(A)-1', 'FAD421(A)-2'], '1IQU': ['TDR500(A)', 'FAD421(A)-1', 'FAD421(A)-2'], '1NP7': ['FAD500(A)-1', 'FAD500(A)-2'], '1O96': ['AMP1263(A)'], '1O97': ['AMP1262(C)'], '1QNF': ['FAD485(A)-1', 'FAD485(A)-2', 'HDF486(A)'], '1U3C': ['FAD510(A)-1', 'FAD510(A)-2'], '1U3D': ['FAD510(A)-1', 'FAD510(A)-2', 'ANP511(A)'], '2IYG': ['FMN1122(A)'], '2J4D': ['FAD1498(A)-1', 'FAD1498(A)-2', 'MHF1499(A)-1', 'MHF1499(A)-2'], '2WB2': ['FAD1510(A)-1', 'FAD1510(A)-2'], '2Z6C': ['FMN500(A)'], '3FY4': ['IMD901(A)', 'IMD902(A)', 'IMD905(A)', 'FAD900(A)-1', 'FAD900(A)-2'], '3ZXS': ['FAD1509(A)-1', 'FAD1509(A)-2', 'DLZ1511(A)', 'SF41510(A)'], '4EER': ['FMN1001(A)'], '4GU5': ['FAD602(A)-1', 'FAD602(A)-2'], '4I6G': ['FAD900(A)-1', 'FAD900(A)-2'], '4U63': ['MHF1001(A)', 'FAD1002(A)-1', 'FAD1002(A)-2'], '6FN2': ['FAD601(A)-1', 'FAD601(A)-2', 'HDF602(A)'], '6KII': ['FAD501(A)-1', 'FAD501(A)-2', 'MHF502(A)-1', 'MHF502(A)-2'], '6LZ3': ['FAD701(A)-1', 'FAD701(A)-2'], '6PU0': ['FAD501(A)-1', 'FAD501(A)-2'], '6RKF': ['FAD401(A)-1', 'FAD401(A)-2']} "
   ]
  },
  {
   "cell_type": "markdown",
   "id": "fa522f88",
   "metadata": {},
   "source": [
    "Call `process.emaps` to generate graphs for all of the PDBs."
   ]
  },
  {
   "cell_type": "code",
   "execution_count": 3,
   "id": "a7cdaf8f",
   "metadata": {},
   "outputs": [
    {
     "name": "stderr",
     "output_type": "stream",
     "text": [
      "/Users/jamesrgayvert/Documents/work/emap/pyemap/pyemap/process_data.py:732: UserWarning: Protein surface will not be computed. All residues will be classified as buried...\n",
      "  warnings.warn(\"Protein surface will not be computed. All residues will be classified as buried...\")\n"
     ]
    }
   ],
   "source": [
    "pg.process_emaps(chains=chains, eta_moieties=included_eta_moieties, include_residues=include_residues, **process_kwargs) "
   ]
  },
  {
   "cell_type": "markdown",
   "id": "d4596888",
   "metadata": {},
   "source": [
    "## Generate graph database\n",
    "The next step is to classify the nodes and edges. One can define \"substitutions\" for nodes, and thresholds for edges."
   ]
  },
  {
   "cell_type": "code",
   "execution_count": 4,
   "id": "3ee09faa",
   "metadata": {},
   "outputs": [],
   "source": [
    "# W and Y will be interchangeable and given the label 'X'\n",
    "substitutions = ['W','Y']\n",
    "# edges with weights > 12 are distinguished from those with weights < 12\n",
    "edge_thresholds = [12] \n",
    "pg.generate_graph_database(sub=[],edge_thresh=edge_thresholds) "
   ]
  },
  {
   "cell_type": "markdown",
   "id": "be220868",
   "metadata": {},
   "source": [
    "## Mine for subgraphs\n",
    "There are two types of searches available in PyeMap. One can mine for all possible subgraphs:"
   ]
  },
  {
   "cell_type": "code",
   "execution_count": 5,
   "id": "44a55338",
   "metadata": {},
   "outputs": [
    {
     "name": "stdout",
     "output_type": "stream",
     "text": [
      "Overview of all subgraphs:\n",
      "Generated:\n",
      "2022-01-26 00:04:43.226139\n",
      "Graph Parameters:\n",
      "{'sdef': None, 'dist_def': 'COM', 'rsa_thresh': 0.05, 'rd_thresh': 3.03, 'distance_cutoff': 20.0, 'percent_edges': 1.0, 'edge_prune': 'DEGREE', 'num_st_dev_edges': 1.0, 'coef_alpha': 1.0, 'exp_beta': 2.3, 'r_offset': 0.0, 'max_degree': 4}\n",
      "Included residues:\n",
      "['W', 'Y']\n",
      "Mining parameters:\n",
      "{'min_support': 19, 'min_num_vertices': 4, 'max_num_vertices': inf, 'graph_specification': []}\n",
      "Chains:\n",
      "{'1X0P': ['A'], '1DNP': ['A'], '1EFP': ['A'], '1G28': ['A'], '1IQR': ['A'], '1IQU': ['A'], '1NP7': ['A'], '1O96': ['A'], '1O97': ['C'], '1QNF': ['A'], '1U3C': ['A'], '1U3D': ['A'], '2IYG': ['A'], '2J4D': ['A'], '2WB2': ['A'], '2Z6C': ['A'], '3FY4': ['A'], '3ZXS': ['A'], '4EER': ['A'], '4GU5': ['A'], '4I6G': ['A'], '4U63': ['A'], '6FN2': ['A'], '6KII': ['A'], '6LZ3': ['A'], '6PU0': ['A'], '6RKF': ['A']}\n",
      "Included non protein moieties:\n",
      "{'1X0P': ['FAD9150(A)'], '1DNP': ['FAD472(A)-1', 'FAD472(A)-2', 'MHF473(A)'], '1EFP': ['FAD399(A)-1', 'FAD399(A)-2', 'AMP400(A)'], '1G28': ['FMN1033(A)'], '1IQR': ['FAD421(A)-1', 'FAD421(A)-2'], '1IQU': ['TDR500(A)', 'FAD421(A)-1', 'FAD421(A)-2'], '1NP7': ['FAD500(A)-1', 'FAD500(A)-2'], '1O96': ['AMP1263(A)'], '1O97': ['AMP1262(C)'], '1QNF': ['FAD485(A)-1', 'FAD485(A)-2', 'HDF486(A)'], '1U3C': ['FAD510(A)-1', 'FAD510(A)-2'], '1U3D': ['FAD510(A)-1', 'FAD510(A)-2', 'ANP511(A)'], '2IYG': ['FMN1122(A)'], '2J4D': ['FAD1498(A)-1', 'FAD1498(A)-2', 'MHF1499(A)-1', 'MHF1499(A)-2'], '2WB2': ['FAD1510(A)-1', 'FAD1510(A)-2'], '2Z6C': ['FMN500(A)'], '3FY4': ['IMD901(A)', 'IMD902(A)', 'IMD905(A)', 'FAD900(A)-1', 'FAD900(A)-2'], '3ZXS': ['FAD1509(A)-1', 'FAD1509(A)-2', 'DLZ1511(A)', 'SF41510(A)'], '4EER': ['FMN1001(A)'], '4GU5': ['FAD602(A)-1', 'FAD602(A)-2'], '4I6G': ['FAD900(A)-1', 'FAD900(A)-2'], '4U63': ['MHF1001(A)', 'FAD1002(A)-1', 'FAD1002(A)-2'], '6FN2': ['FAD601(A)-1', 'FAD601(A)-2', 'HDF602(A)'], '6KII': ['FAD501(A)-1', 'FAD501(A)-2', 'MHF502(A)-1', 'MHF502(A)-2'], '6LZ3': ['FAD701(A)-1', 'FAD701(A)-2'], '6PU0': ['FAD501(A)-1', 'FAD501(A)-2'], '6RKF': ['FAD401(A)-1', 'FAD401(A)-2']}\n",
      "Edge thresholds:\n",
      "[12]\n",
      "Node labels:\n",
      "{'W': 2, 'Y': 3, 'X': 4, '#': 5}\n",
      "Residue categories:\n",
      "{2: 'W', 3: 'Y', 4: 'X', 5: '#'}\n",
      "\n",
      "Subgraphs found:\n",
      "\n",
      "ID:1_WWYY_19\n",
      "Support:19\n",
      "Where:['1DNP', '1IQR', '1IQU', '1NP7', '1QNF', '1U3C', '1U3D', '2J4D', '2WB2', '3FY4', '3ZXS', '4GU5', '4I6G', '4U63', '6FN2', '6KII', '6LZ3', '6PU0', '6RKF']\n",
      "Adjacency list:\n",
      "W0:[W1(1)]\n",
      "W1:[W0(1), Y2(1)]\n",
      "Y2:[W1(1), Y3(1)]\n",
      "Y3:[Y2(1)]\n",
      "\n",
      "\n"
     ]
    }
   ],
   "source": [
    "pg.run_gspan(19)\n",
    "print(pg.mining_report())"
   ]
  },
  {
   "cell_type": "markdown",
   "id": "c7bc28fc",
   "metadata": {},
   "source": [
    "Or search for a specific pattern:"
   ]
  },
  {
   "cell_type": "code",
   "execution_count": 6,
   "id": "50abdfb5",
   "metadata": {},
   "outputs": [
    {
     "name": "stdout",
     "output_type": "stream",
     "text": [
      "Overview of all subgraphs:\n",
      "Generated:\n",
      "2022-01-26 00:04:43.359331\n",
      "Graph Parameters:\n",
      "{'sdef': None, 'dist_def': 'COM', 'rsa_thresh': 0.05, 'rd_thresh': 3.03, 'distance_cutoff': 20.0, 'percent_edges': 1.0, 'edge_prune': 'DEGREE', 'num_st_dev_edges': 1.0, 'coef_alpha': 1.0, 'exp_beta': 2.3, 'r_offset': 0.0, 'max_degree': 4}\n",
      "Included residues:\n",
      "['W', 'Y']\n",
      "Mining parameters:\n",
      "{'support': None, 'min_num_vertices': None, 'max_num_vertices': None, 'graph_specification': 'WWW#'}\n",
      "Chains:\n",
      "{'1X0P': ['A'], '1DNP': ['A'], '1EFP': ['A'], '1G28': ['A'], '1IQR': ['A'], '1IQU': ['A'], '1NP7': ['A'], '1O96': ['A'], '1O97': ['C'], '1QNF': ['A'], '1U3C': ['A'], '1U3D': ['A'], '2IYG': ['A'], '2J4D': ['A'], '2WB2': ['A'], '2Z6C': ['A'], '3FY4': ['A'], '3ZXS': ['A'], '4EER': ['A'], '4GU5': ['A'], '4I6G': ['A'], '4U63': ['A'], '6FN2': ['A'], '6KII': ['A'], '6LZ3': ['A'], '6PU0': ['A'], '6RKF': ['A']}\n",
      "Included non protein moieties:\n",
      "{'1X0P': ['FAD9150(A)'], '1DNP': ['FAD472(A)-1', 'FAD472(A)-2', 'MHF473(A)'], '1EFP': ['FAD399(A)-1', 'FAD399(A)-2', 'AMP400(A)'], '1G28': ['FMN1033(A)'], '1IQR': ['FAD421(A)-1', 'FAD421(A)-2'], '1IQU': ['TDR500(A)', 'FAD421(A)-1', 'FAD421(A)-2'], '1NP7': ['FAD500(A)-1', 'FAD500(A)-2'], '1O96': ['AMP1263(A)'], '1O97': ['AMP1262(C)'], '1QNF': ['FAD485(A)-1', 'FAD485(A)-2', 'HDF486(A)'], '1U3C': ['FAD510(A)-1', 'FAD510(A)-2'], '1U3D': ['FAD510(A)-1', 'FAD510(A)-2', 'ANP511(A)'], '2IYG': ['FMN1122(A)'], '2J4D': ['FAD1498(A)-1', 'FAD1498(A)-2', 'MHF1499(A)-1', 'MHF1499(A)-2'], '2WB2': ['FAD1510(A)-1', 'FAD1510(A)-2'], '2Z6C': ['FMN500(A)'], '3FY4': ['IMD901(A)', 'IMD902(A)', 'IMD905(A)', 'FAD900(A)-1', 'FAD900(A)-2'], '3ZXS': ['FAD1509(A)-1', 'FAD1509(A)-2', 'DLZ1511(A)', 'SF41510(A)'], '4EER': ['FMN1001(A)'], '4GU5': ['FAD602(A)-1', 'FAD602(A)-2'], '4I6G': ['FAD900(A)-1', 'FAD900(A)-2'], '4U63': ['MHF1001(A)', 'FAD1002(A)-1', 'FAD1002(A)-2'], '6FN2': ['FAD601(A)-1', 'FAD601(A)-2', 'HDF602(A)'], '6KII': ['FAD501(A)-1', 'FAD501(A)-2', 'MHF502(A)-1', 'MHF502(A)-2'], '6LZ3': ['FAD701(A)-1', 'FAD701(A)-2'], '6PU0': ['FAD501(A)-1', 'FAD501(A)-2'], '6RKF': ['FAD401(A)-1', 'FAD401(A)-2']}\n",
      "Edge thresholds:\n",
      "[12]\n",
      "Node labels:\n",
      "{'W': 2, 'Y': 3, 'X': 4, '#': 5}\n",
      "Residue categories:\n",
      "{2: 'W', 3: 'Y', 4: 'X', 5: '#'}\n",
      "\n",
      "Subgraphs found:\n",
      "\n",
      "ID:1_WWW#_18\n",
      "Support:18\n",
      "Where:['1DNP', '1IQR', '1IQU', '1NP7', '1QNF', '1U3C', '1U3D', '2J4D', '2WB2', '3FY4', '3ZXS', '4GU5', '4I6G', '4U63', '6FN2', '6KII', '6LZ3', '6PU0']\n",
      "Adjacency list:\n",
      "W0:[W1(1)]\n",
      "W1:[W0(1), W2(1)]\n",
      "W2:[W1(1), NP3(1)]\n",
      "NP3:[W2(1)]\n",
      "\n",
      "ID:2_WWW#_14\n",
      "Support:14\n",
      "Where:['1DNP', '1IQR', '1IQU', '1QNF', '1U3C', '1U3D', '2J4D', '2WB2', '3FY4', '4GU5', '4I6G', '4U63', '6LZ3', '6PU0']\n",
      "Adjacency list:\n",
      "W0:[W1(2)]\n",
      "W1:[W0(2), W2(1)]\n",
      "W2:[W1(1), NP3(1)]\n",
      "NP3:[W2(1)]\n",
      "\n",
      "ID:3_WWW#_4\n",
      "Support:4\n",
      "Where:['1DNP', '2J4D', '4U63', '6KII']\n",
      "Adjacency list:\n",
      "W0:[W1(1)]\n",
      "W1:[W0(1), W2(1)]\n",
      "W2:[W1(1), NP3(2)]\n",
      "NP3:[W2(2)]\n",
      "\n",
      "ID:4_WWW#_2\n",
      "Support:2\n",
      "Where:['2J4D', '6RKF']\n",
      "Adjacency list:\n",
      "W0:[W1(1)]\n",
      "W1:[W0(1), W2(2)]\n",
      "W2:[W1(2), NP3(2)]\n",
      "NP3:[W2(2)]\n",
      "\n",
      "ID:5_WWW#_2\n",
      "Support:2\n",
      "Where:['1DNP', '2J4D']\n",
      "Adjacency list:\n",
      "W0:[W1(2)]\n",
      "W1:[W0(2), W2(1)]\n",
      "W2:[W1(1), NP3(2)]\n",
      "NP3:[W2(2)]\n",
      "\n",
      "ID:6_WWW#_2\n",
      "Support:2\n",
      "Where:['1IQU', '4U63']\n",
      "Adjacency list:\n",
      "W0:[W1(1)]\n",
      "W1:[W0(1), W2(2)]\n",
      "W2:[W1(2), NP3(1)]\n",
      "NP3:[W2(1)]\n",
      "\n",
      "ID:7_WWW#_1\n",
      "Support:1\n",
      "Where:['2J4D']\n",
      "Adjacency list:\n",
      "W0:[W1(2)]\n",
      "W1:[W0(2), W2(2)]\n",
      "W2:[W1(2), NP3(2)]\n",
      "NP3:[W2(2)]\n",
      "\n",
      "\n"
     ]
    }
   ],
   "source": [
    "pg.find_subgraph('WWW#')\n",
    "print(pg.mining_report())"
   ]
  },
  {
   "cell_type": "markdown",
   "id": "a07eb45b",
   "metadata": {},
   "source": [
    "## Analysis: Subgraph Patterns\n",
    "The identified subgraphs are stored in the `subgraph_patterns` dictionary."
   ]
  },
  {
   "cell_type": "code",
   "execution_count": 7,
   "id": "0e0c2717",
   "metadata": {},
   "outputs": [
    {
     "data": {
      "text/plain": [
       "{'1_WWW#_18': <pyemap.graph_mining.frequent_subgraph.SubgraphPattern at 0x185750d90>,\n",
       " '2_WWW#_14': <pyemap.graph_mining.frequent_subgraph.SubgraphPattern at 0x184358d90>,\n",
       " '3_WWW#_4': <pyemap.graph_mining.frequent_subgraph.SubgraphPattern at 0x18598eb80>,\n",
       " '4_WWW#_2': <pyemap.graph_mining.frequent_subgraph.SubgraphPattern at 0x1859551f0>,\n",
       " '5_WWW#_2': <pyemap.graph_mining.frequent_subgraph.SubgraphPattern at 0x1842f4df0>,\n",
       " '6_WWW#_2': <pyemap.graph_mining.frequent_subgraph.SubgraphPattern at 0x18598ec10>,\n",
       " '7_WWW#_1': <pyemap.graph_mining.frequent_subgraph.SubgraphPattern at 0x1859bbc40>}"
      ]
     },
     "execution_count": 7,
     "metadata": {},
     "output_type": "execute_result"
    }
   ],
   "source": [
    "pg.subgraph_patterns"
   ]
  },
  {
   "cell_type": "code",
   "execution_count": 8,
   "id": "fc719e23",
   "metadata": {},
   "outputs": [
    {
     "name": "stdout",
     "output_type": "stream",
     "text": [
      "ID:1_WWW#_18\n",
      "Support:18\n",
      "Where:['1DNP', '1IQR', '1IQU', '1NP7', '1QNF', '1U3C', '1U3D', '2J4D', '2WB2', '3FY4', '3ZXS', '4GU5', '4I6G', '4U63', '6FN2', '6KII', '6LZ3', '6PU0']\n",
      "Adjacency list:\n",
      "W0:[W1(1)]\n",
      "W1:[W0(1), W2(1)]\n",
      "W2:[W1(1), NP3(1)]\n",
      "NP3:[W2(1)]\n",
      "\n"
     ]
    },
    {
     "data": {
      "image/png": "[encoded data removed]",
      "text/plain": [
       "<PIL.PngImagePlugin.PngImageFile image mode=RGBA size=83x407 at 0x185A0CBB0>"
      ]
     },
     "execution_count": 8,
     "metadata": {},
     "output_type": "execute_result"
    }
   ],
   "source": [
    "sg = pg.subgraph_patterns['1_WWW#_18']\n",
    "print(sg.general_report())\n",
    "sg.subgraph_to_Image()"
   ]
  },
  {
   "cell_type": "markdown",
   "id": "dadbb39c",
   "metadata": {},
   "source": [
    "## Analysis: Protein Subgraphs\n",
    "To identify the specific residues in each PDB involved in the identified patterns, one should first call `find_protein_subgraphs`, and the identified **protein subgraphs** are stored in the `protein_subgraphs` dictionary."
   ]
  },
  {
   "cell_type": "code",
   "execution_count": 9,
   "id": "58ff49a0",
   "metadata": {},
   "outputs": [
    {
     "data": {
      "text/plain": [
       "{'4U63_1': <networkx.classes.graph.Graph at 0x18591f100>,\n",
       " '4U63_2': <networkx.classes.graph.Graph at 0x185955c40>,\n",
       " '4U63_3': <networkx.classes.graph.Graph at 0x185971d90>,\n",
       " '4U63_4': <networkx.classes.graph.Graph at 0x185971c40>,\n",
       " '4U63_5': <networkx.classes.graph.Graph at 0x185971e80>,\n",
       " '6KII_6': <networkx.classes.graph.Graph at 0x185990670>,\n",
       " '3ZXS_7': <networkx.classes.graph.Graph at 0x185971640>,\n",
       " '6KII_8': <networkx.classes.graph.Graph at 0x185990640>,\n",
       " '3ZXS_9': <networkx.classes.graph.Graph at 0x1859711f0>,\n",
       " '4U63_10': <networkx.classes.graph.Graph at 0x1859085b0>,\n",
       " '4U63_11': <networkx.classes.graph.Graph at 0x1859718b0>,\n",
       " '6KII_12': <networkx.classes.graph.Graph at 0x185990a90>,\n",
       " '6LZ3_13': <networkx.classes.graph.Graph at 0x1859903d0>,\n",
       " '1U3C_14': <networkx.classes.graph.Graph at 0x185908f10>,\n",
       " '1U3D_15': <networkx.classes.graph.Graph at 0x185971250>,\n",
       " '6KII_16': <networkx.classes.graph.Graph at 0x185990220>,\n",
       " '1NP7_17': <networkx.classes.graph.Graph at 0x185908220>,\n",
       " '6KII_18': <networkx.classes.graph.Graph at 0x185990550>,\n",
       " '6KII_19': <networkx.classes.graph.Graph at 0x1859906a0>,\n",
       " '4U63_20': <networkx.classes.graph.Graph at 0x185971df0>,\n",
       " '3FY4_21': <networkx.classes.graph.Graph at 0x1859bb8e0>,\n",
       " '6FN2_22': <networkx.classes.graph.Graph at 0x185990430>,\n",
       " '6KII_23': <networkx.classes.graph.Graph at 0x185990820>,\n",
       " '4U63_24': <networkx.classes.graph.Graph at 0x185908e50>,\n",
       " '1NP7_25': <networkx.classes.graph.Graph at 0x1859080a0>,\n",
       " '1QNF_26': <networkx.classes.graph.Graph at 0x185908c10>,\n",
       " '4U63_27': <networkx.classes.graph.Graph at 0x18591f340>,\n",
       " '1QNF_28': <networkx.classes.graph.Graph at 0x185908c40>,\n",
       " '6PU0_29': <networkx.classes.graph.Graph at 0x185990100>,\n",
       " '4GU5_30': <networkx.classes.graph.Graph at 0x185971730>,\n",
       " '4I6G_31': <networkx.classes.graph.Graph at 0x1859719a0>,\n",
       " '2WB2_32': <networkx.classes.graph.Graph at 0x18598ea30>,\n",
       " '4U63_33': <networkx.classes.graph.Graph at 0x185971130>,\n",
       " '1DNP_34': <networkx.classes.graph.Graph at 0x185908130>,\n",
       " '6KII_35': <networkx.classes.graph.Graph at 0x185990af0>,\n",
       " '2J4D_36': <networkx.classes.graph.Graph at 0x185955f10>,\n",
       " '6KII_37': <networkx.classes.graph.Graph at 0x185990160>,\n",
       " '1NP7_38': <networkx.classes.graph.Graph at 0x185908850>,\n",
       " '2J4D_39': <networkx.classes.graph.Graph at 0x1859554c0>,\n",
       " '1NP7_40': <networkx.classes.graph.Graph at 0x185908550>,\n",
       " '6PU0_41': <networkx.classes.graph.Graph at 0x185990e20>,\n",
       " '1IQR_42': <networkx.classes.graph.Graph at 0x185908310>,\n",
       " '4U63_43': <networkx.classes.graph.Graph at 0x1859bbaf0>,\n",
       " '1U3C_44': <networkx.classes.graph.Graph at 0x185908880>,\n",
       " '1U3D_45': <networkx.classes.graph.Graph at 0x185971280>,\n",
       " '1IQU_46': <networkx.classes.graph.Graph at 0x1859081f0>,\n",
       " '4GU5_47': <networkx.classes.graph.Graph at 0x185971940>,\n",
       " '4U63_48': <networkx.classes.graph.Graph at 0x185971ee0>,\n",
       " '6LZ3_49': <networkx.classes.graph.Graph at 0x185990730>,\n",
       " '1U3D_50': <networkx.classes.graph.Graph at 0x1859712b0>,\n",
       " '4I6G_51': <networkx.classes.graph.Graph at 0x185971bb0>,\n",
       " '1QNF_52': <networkx.classes.graph.Graph at 0x1859088e0>,\n",
       " '1U3C_53': <networkx.classes.graph.Graph at 0x185908730>,\n",
       " '2WB2_54': <networkx.classes.graph.Graph at 0x185835cd0>,\n",
       " '6FN2_55': <networkx.classes.graph.Graph at 0x185990130>,\n",
       " '1NP7_56': <networkx.classes.graph.Graph at 0x185908940>,\n",
       " '4U63_57': <networkx.classes.graph.Graph at 0x185971c10>,\n",
       " '3FY4_58': <networkx.classes.graph.Graph at 0x185971190>,\n",
       " '3ZXS_59': <networkx.classes.graph.Graph at 0x185971580>,\n",
       " '1NP7_60': <networkx.classes.graph.Graph at 0x185908820>,\n",
       " '1NP7_61': <networkx.classes.graph.Graph at 0x185908790>,\n",
       " '4U63_62': <networkx.classes.graph.Graph at 0x185971dc0>,\n",
       " '3FY4_63': <networkx.classes.graph.Graph at 0x1859bb190>,\n",
       " '4U63_64': <networkx.classes.graph.Graph at 0x185835970>,\n",
       " '3ZXS_65': <networkx.classes.graph.Graph at 0x1859716a0>,\n",
       " '6FN2_66': <networkx.classes.graph.Graph at 0x185990400>,\n",
       " '1QNF_67': <networkx.classes.graph.Graph at 0x185908be0>,\n",
       " '6PU0_68': <networkx.classes.graph.Graph at 0x1859bb5e0>,\n",
       " '4U63_69': <networkx.classes.graph.Graph at 0x185835eb0>,\n",
       " '4U63_70': <networkx.classes.graph.Graph at 0x185a0c910>,\n",
       " '4I6G_71': <networkx.classes.graph.Graph at 0x185971b80>,\n",
       " '1NP7_72': <networkx.classes.graph.Graph at 0x1859087c0>,\n",
       " '4GU5_73': <networkx.classes.graph.Graph at 0x185971910>,\n",
       " '2J4D_74': <networkx.classes.graph.Graph at 0x185955940>,\n",
       " '4U63_75': <networkx.classes.graph.Graph at 0x185971e20>,\n",
       " '2WB2_76': <networkx.classes.graph.Graph at 0x185835940>,\n",
       " '1NP7_77': <networkx.classes.graph.Graph at 0x1859089a0>,\n",
       " '4U63_78': <networkx.classes.graph.Graph at 0x1858359d0>,\n",
       " '1U3C_79': <networkx.classes.graph.Graph at 0x185908df0>,\n",
       " '1QNF_80': <networkx.classes.graph.Graph at 0x185908d30>,\n",
       " '1U3D_81': <networkx.classes.graph.Graph at 0x185971070>,\n",
       " '1U3D_82': <networkx.classes.graph.Graph at 0x185908520>,\n",
       " '1U3C_83': <networkx.classes.graph.Graph at 0x185908d90>,\n",
       " '1U3D_84': <networkx.classes.graph.Graph at 0x18437a2e0>,\n",
       " '1U3C_85': <networkx.classes.graph.Graph at 0x185908fa0>,\n",
       " '1IQR_86': <networkx.classes.graph.Graph at 0x1859082e0>,\n",
       " '6LZ3_87': <networkx.classes.graph.Graph at 0x185990fd0>,\n",
       " '6LZ3_88': <networkx.classes.graph.Graph at 0x185990880>,\n",
       " '1IQU_89': <networkx.classes.graph.Graph at 0x185908490>,\n",
       " '1U3C_90': <networkx.classes.graph.Graph at 0x185908ca0>,\n",
       " '4GU5_91': <networkx.classes.graph.Graph at 0x185971760>,\n",
       " '1U3D_92': <networkx.classes.graph.Graph at 0x1859710a0>,\n",
       " '1QNF_93': <networkx.classes.graph.Graph at 0x185908a00>,\n",
       " '4U63_94': <networkx.classes.graph.Graph at 0x185971fa0>,\n",
       " '2WB2_95': <networkx.classes.graph.Graph at 0x185835c10>,\n",
       " '6KII_96': <networkx.classes.graph.Graph at 0x185990bb0>,\n",
       " '3FY4_97': <networkx.classes.graph.Graph at 0x1859713a0>,\n",
       " '1NP7_98': <networkx.classes.graph.Graph at 0x1859089d0>,\n",
       " '3FY4_99': <networkx.classes.graph.Graph at 0x1859bbeb0>,\n",
       " '1IQR_100': <networkx.classes.graph.Graph at 0x185908250>,\n",
       " '6LZ3_101': <networkx.classes.graph.Graph at 0x1859901f0>,\n",
       " '3FY4_102': <networkx.classes.graph.Graph at 0x1859bb9d0>,\n",
       " '1IQU_103': <networkx.classes.graph.Graph at 0x1859bb640>,\n",
       " '1QNF_104': <networkx.classes.graph.Graph at 0x185908cd0>,\n",
       " '3FY4_105': <networkx.classes.graph.Graph at 0x1859710d0>,\n",
       " '4U63_106': <networkx.classes.graph.Graph at 0x185a0c700>,\n",
       " '1U3C_107': <networkx.classes.graph.Graph at 0x1859087f0>,\n",
       " '1U3D_108': <networkx.classes.graph.Graph at 0x185971340>}"
      ]
     },
     "execution_count": 9,
     "metadata": {},
     "output_type": "execute_result"
    }
   ],
   "source": [
    "sg.find_protein_subgraphs()\n",
    "sg.protein_subgraphs"
   ]
  },
  {
   "cell_type": "code",
   "execution_count": 12,
   "id": "f8fd1f5e",
   "metadata": {},
   "outputs": [
    {
     "data": {
      "image/png": "[encoded data removed]",
      "text/plain": [
       "<PIL.PngImagePlugin.PngImageFile image mode=RGBA size=158x407 at 0x10F3B5B50>"
      ]
     },
     "execution_count": 12,
     "metadata": {},
     "output_type": "execute_result"
    }
   ],
   "source": [
    "sg.subgraph_to_Image('1U3D_50')"
   ]
  },
  {
   "cell_type": "markdown",
   "id": "0e474380",
   "metadata": {},
   "source": [
    "### Clustering\n",
    "Protein subgraphs are clustered into groups based on sequence or structural similarity. By default, structural clustering is used, and this can be switched to sequence using `set_clustering`."
   ]
  },
  {
   "cell_type": "code",
   "execution_count": 13,
   "id": "5b63a01f",
   "metadata": {},
   "outputs": [
    {
     "name": "stdout",
     "output_type": "stream",
     "text": [
      "{1: ['4U63_33', '1DNP_34', '2J4D_39', '1IQR_42', '1IQU_46', '6KII_16', '1NP7_17', '1U3D_50', '3FY4_21', '6FN2_22', '1U3C_53', '1QNF_28', '6PU0_29', '4GU5_30', '4I6G_31', '2WB2_32'], 2: ['6FN2_66', '6PU0_68', '4I6G_71', '4GU5_73', '2WB2_76', '3FY4_63'], 3: ['4U63_27', '2J4D_36', '6KII_37', '1NP7_38'], 4: ['6PU0_41', '4I6G_51', '2WB2_54', '4GU5_47'], 5: ['1U3D_84', '1U3C_85', '1NP7_72'], 6: ['1U3D_82', '1U3C_83', '1NP7_77'], 7: ['1U3C_90', '1U3D_92', '6LZ3_87'], 8: ['3FY4_97', '4GU5_91', '2WB2_95'], 9: ['1U3C_14', '1U3D_15'], 10: ['1NP7_25', '6KII_23'], 11: ['1U3C_44', '1U3D_45'], 12: ['1U3D_81', '1U3C_79'], 13: ['1IQU_89', '1IQR_86'], 14: ['1IQR_100', '1IQU_103'], 15: ['1U3C_107', '1U3D_108'], 16: ['4U63_1'], 17: ['4U63_2'], 18: ['4U63_3'], 19: ['4U63_4'], 20: ['4U63_5'], 21: ['6KII_6'], 22: ['3ZXS_7'], 23: ['6KII_8'], 24: ['3ZXS_9'], 25: ['4U63_10'], 26: ['4U63_11'], 27: ['6KII_12'], 28: ['6LZ3_13'], 29: ['6KII_18'], 30: ['6KII_19'], 31: ['4U63_20'], 32: ['4U63_24'], 33: ['1QNF_26'], 34: ['6KII_35'], 35: ['1NP7_40'], 36: ['4U63_43'], 37: ['4U63_48'], 38: ['6LZ3_49'], 39: ['1QNF_52'], 40: ['6FN2_55'], 41: ['1NP7_56'], 42: ['4U63_57'], 43: ['3FY4_58'], 44: ['3ZXS_59'], 45: ['1NP7_60'], 46: ['1NP7_61'], 47: ['4U63_62'], 48: ['4U63_64'], 49: ['3ZXS_65'], 50: ['1QNF_67'], 51: ['4U63_69'], 52: ['4U63_70'], 53: ['2J4D_74'], 54: ['4U63_75'], 55: ['4U63_78'], 56: ['1QNF_80'], 57: ['6LZ3_88'], 58: ['1QNF_93'], 59: ['4U63_94'], 60: ['6KII_96'], 61: ['1NP7_98'], 62: ['3FY4_99'], 63: ['6LZ3_101'], 64: ['3FY4_102'], 65: ['1QNF_104'], 66: ['3FY4_105'], 67: ['4U63_106']}\n"
     ]
    }
   ],
   "source": [
    "print(sg.groups)"
   ]
  },
  {
   "cell_type": "code",
   "execution_count": 14,
   "id": "c0d311cc",
   "metadata": {},
   "outputs": [
    {
     "name": "stdout",
     "output_type": "stream",
     "text": [
      "{1: ['4U63_33', '1DNP_34', '6KII_6', '2J4D_39', '1NP7_40', '1IQR_42', '1IQU_46', '6KII_16', '1NP7_17', '1U3D_50', '3FY4_21', '6FN2_22', '1U3C_53', '1QNF_28', '6PU0_29', '4GU5_30', '4I6G_31', '2WB2_32'], 2: ['6FN2_66', '6PU0_68', '4I6G_71', '6PU0_41', '4GU5_73', '2WB2_76', '4GU5_47', '4I6G_51', '2WB2_54', '1IQR_86', '1IQU_89', '3FY4_63'], 3: ['1U3C_44', '6LZ3_13', '1U3C_14', '1U3D_45', '1U3D_15', '6LZ3_49'], 4: ['4U63_27', '2J4D_36', '6KII_37', '1NP7_38'], 5: ['1NP7_98', '1U3D_84', '1U3C_85', '1NP7_72'], 6: ['6LZ3_101', '1U3D_82', '1U3C_83', '1NP7_77'], 7: ['1U3D_81', '1U3C_79', '6LZ3_88'], 8: ['1U3C_90', '1U3D_92', '6LZ3_87'], 9: ['3FY4_97', '4GU5_91', '2WB2_95'], 10: ['3ZXS_9', '3ZXS_7'], 11: ['1NP7_56', '6KII_8'], 12: ['1NP7_60', '6KII_12'], 13: ['6KII_18', '6KII_96'], 14: ['6KII_19', '1NP7_61'], 15: ['1NP7_25', '6KII_23'], 16: ['4U63_43', '1QNF_67'], 17: ['3ZXS_65', '3ZXS_59'], 18: ['1IQR_100', '1IQU_103'], 19: ['1U3C_107', '1U3D_108'], 20: ['4U63_1'], 21: ['4U63_2'], 22: ['4U63_3'], 23: ['4U63_4'], 24: ['4U63_5'], 25: ['4U63_10'], 26: ['4U63_11'], 27: ['4U63_20'], 28: ['4U63_24'], 29: ['1QNF_26'], 30: ['6KII_35'], 31: ['4U63_48'], 32: ['1QNF_52'], 33: ['6FN2_55'], 34: ['4U63_57'], 35: ['3FY4_58'], 36: ['4U63_62'], 37: ['4U63_64'], 38: ['4U63_69'], 39: ['4U63_70'], 40: ['2J4D_74'], 41: ['4U63_75'], 42: ['4U63_78'], 43: ['1QNF_80'], 44: ['1QNF_93'], 45: ['4U63_94'], 46: ['3FY4_99'], 47: ['3FY4_102'], 48: ['1QNF_104'], 49: ['3FY4_105'], 50: ['4U63_106']}\n"
     ]
    }
   ],
   "source": [
    "sg.set_clustering(\"sequence\")\n",
    "print(sg.groups)"
   ]
  },
  {
   "cell_type": "markdown",
   "id": "33cfcca2",
   "metadata": {},
   "source": [
    "### View in nglview"
   ]
  },
  {
   "cell_type": "code",
   "execution_count": 10,
   "id": "2df77105",
   "metadata": {},
   "outputs": [
    {
     "data": {
      "application/vnd.jupyter.widget-view+json": {
       "model_id": "ff650471c46d443d8a5fc043f13f8070",
       "version_major": 2,
       "version_minor": 0
      },
      "text/plain": []
     },
     "metadata": {},
     "output_type": "display_data"
    },
    {
     "data": {
      "application/vnd.jupyter.widget-view+json": {
       "model_id": "dcd61ad076414a409a37c80534abbb71",
       "version_major": 2,
       "version_minor": 0
      },
      "text/plain": [
       "NGLWidget()"
      ]
     },
     "metadata": {},
     "output_type": "display_data"
    }
   ],
   "source": [
    "import nglview as nv\n",
    "view = nv.show_file(sg.support['1U3D'].file_path)\n",
    "view.clear_representations()\n",
    "view.add_cartoon(color=\"lightgray\")\n",
    "sg.visualize_subgraph_in_nglview('1U3D_50',view)\n",
    "view"
   ]
  }
 ],
 "metadata": {
  "kernelspec": {
   "display_name": "Python 3 (ipykernel)",
   "language": "python",
   "name": "python3"
  },
  "language_info": {
   "codemirror_mode": {
    "name": "ipython",
    "version": 3
   },
   "file_extension": ".py",
   "mimetype": "text/x-python",
   "name": "python",
   "nbconvert_exporter": "python",
   "pygments_lexer": "ipython3",
   "version": "3.9.7"
  }
 },
 "nbformat": 4,
 "nbformat_minor": 5
}
