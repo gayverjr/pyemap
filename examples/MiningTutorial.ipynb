{
 "cells": [
  {
   "cell_type": "markdown",
   "id": "fabf39e6",
   "metadata": {},
   "source": [
    "# Protein Graph Mining: Basic Usage"
   ]
  },
  {
   "cell_type": "markdown",
   "id": "37547a35",
   "metadata": {},
   "source": [
    "## Parsing"
   ]
  },
  {
   "cell_type": "markdown",
   "id": "80f2ab0c",
   "metadata": {},
   "source": [
    "The first step of graph mining with PyeMap is to create a `PDBGroup` object, and populate it `emap` objects for the PDBs of interest. Here, we'll fetch and parse a small set of flavoprotein PDBs."
   ]
  },
  {
   "cell_type": "code",
   "execution_count": 1,
   "id": "5769b093",
   "metadata": {},
   "outputs": [
    {
     "name": "stdout",
     "output_type": "stream",
     "text": [
      "Fetching PDB 1X0P from RSCB Database...\n",
      "Success!\n",
      "Parsing file: /Users/jamesrgayvert/Documents/work/emap/pyemap/examples/1X0P.pdb\n"
     ]
    },
    {
     "name": "stderr",
     "output_type": "stream",
     "text": [
      "/Users/jamesrgayvert/miniforge3/envs/rosettapy39/lib/python3.9/site-packages/Bio/PDB/StructureBuilder.py:89: PDBConstructionWarning: WARNING: Chain A is discontinuous at line 11957.\n",
      "  warnings.warn(\n",
      "/Users/jamesrgayvert/miniforge3/envs/rosettapy39/lib/python3.9/site-packages/Bio/PDB/StructureBuilder.py:89: PDBConstructionWarning: WARNING: Chain B is discontinuous at line 11984.\n",
      "  warnings.warn(\n",
      "/Users/jamesrgayvert/miniforge3/envs/rosettapy39/lib/python3.9/site-packages/Bio/PDB/StructureBuilder.py:89: PDBConstructionWarning: WARNING: Chain C is discontinuous at line 12011.\n",
      "  warnings.warn(\n",
      "/Users/jamesrgayvert/miniforge3/envs/rosettapy39/lib/python3.9/site-packages/Bio/PDB/StructureBuilder.py:89: PDBConstructionWarning: WARNING: Chain D is discontinuous at line 12038.\n",
      "  warnings.warn(\n",
      "/Users/jamesrgayvert/miniforge3/envs/rosettapy39/lib/python3.9/site-packages/Bio/PDB/StructureBuilder.py:89: PDBConstructionWarning: WARNING: Chain E is discontinuous at line 12065.\n",
      "  warnings.warn(\n",
      "/Users/jamesrgayvert/miniforge3/envs/rosettapy39/lib/python3.9/site-packages/Bio/PDB/StructureBuilder.py:89: PDBConstructionWarning: WARNING: Chain F is discontinuous at line 12092.\n",
      "  warnings.warn(\n",
      "/Users/jamesrgayvert/miniforge3/envs/rosettapy39/lib/python3.9/site-packages/Bio/PDB/StructureBuilder.py:89: PDBConstructionWarning: WARNING: Chain G is discontinuous at line 12119.\n",
      "  warnings.warn(\n",
      "/Users/jamesrgayvert/miniforge3/envs/rosettapy39/lib/python3.9/site-packages/Bio/PDB/StructureBuilder.py:89: PDBConstructionWarning: WARNING: Chain H is discontinuous at line 12146.\n",
      "  warnings.warn(\n",
      "/Users/jamesrgayvert/miniforge3/envs/rosettapy39/lib/python3.9/site-packages/Bio/PDB/StructureBuilder.py:89: PDBConstructionWarning: WARNING: Chain I is discontinuous at line 12173.\n",
      "  warnings.warn(\n",
      "/Users/jamesrgayvert/miniforge3/envs/rosettapy39/lib/python3.9/site-packages/Bio/PDB/StructureBuilder.py:89: PDBConstructionWarning: WARNING: Chain J is discontinuous at line 12200.\n",
      "  warnings.warn(\n",
      "/Users/jamesrgayvert/miniforge3/envs/rosettapy39/lib/python3.9/site-packages/Bio/PDB/StructureBuilder.py:89: PDBConstructionWarning: WARNING: Chain A is discontinuous at line 12227.\n",
      "  warnings.warn(\n",
      "/Users/jamesrgayvert/miniforge3/envs/rosettapy39/lib/python3.9/site-packages/Bio/PDB/StructureBuilder.py:89: PDBConstructionWarning: WARNING: Chain B is discontinuous at line 12266.\n",
      "  warnings.warn(\n",
      "/Users/jamesrgayvert/miniforge3/envs/rosettapy39/lib/python3.9/site-packages/Bio/PDB/StructureBuilder.py:89: PDBConstructionWarning: WARNING: Chain C is discontinuous at line 12298.\n",
      "  warnings.warn(\n",
      "/Users/jamesrgayvert/miniforge3/envs/rosettapy39/lib/python3.9/site-packages/Bio/PDB/StructureBuilder.py:89: PDBConstructionWarning: WARNING: Chain D is discontinuous at line 12328.\n",
      "  warnings.warn(\n",
      "/Users/jamesrgayvert/miniforge3/envs/rosettapy39/lib/python3.9/site-packages/Bio/PDB/StructureBuilder.py:89: PDBConstructionWarning: WARNING: Chain E is discontinuous at line 12353.\n",
      "  warnings.warn(\n",
      "/Users/jamesrgayvert/miniforge3/envs/rosettapy39/lib/python3.9/site-packages/Bio/PDB/StructureBuilder.py:89: PDBConstructionWarning: WARNING: Chain F is discontinuous at line 12375.\n",
      "  warnings.warn(\n",
      "/Users/jamesrgayvert/miniforge3/envs/rosettapy39/lib/python3.9/site-packages/Bio/PDB/StructureBuilder.py:89: PDBConstructionWarning: WARNING: Chain G is discontinuous at line 12410.\n",
      "  warnings.warn(\n",
      "/Users/jamesrgayvert/miniforge3/envs/rosettapy39/lib/python3.9/site-packages/Bio/PDB/StructureBuilder.py:89: PDBConstructionWarning: WARNING: Chain H is discontinuous at line 12439.\n",
      "  warnings.warn(\n",
      "/Users/jamesrgayvert/miniforge3/envs/rosettapy39/lib/python3.9/site-packages/Bio/PDB/StructureBuilder.py:89: PDBConstructionWarning: WARNING: Chain I is discontinuous at line 12461.\n",
      "  warnings.warn(\n",
      "/Users/jamesrgayvert/miniforge3/envs/rosettapy39/lib/python3.9/site-packages/Bio/PDB/StructureBuilder.py:89: PDBConstructionWarning: WARNING: Chain J is discontinuous at line 12481.\n",
      "  warnings.warn(\n"
     ]
    },
    {
     "name": "stdout",
     "output_type": "stream",
     "text": [
      "Identified 10 non-protein ET active moieties.\n",
      "Fetching PDB 1DNP from RSCB Database...\n",
      "Success!\n",
      "Parsing file: /Users/jamesrgayvert/Documents/work/emap/pyemap/examples/1DNP.pdb\n"
     ]
    },
    {
     "name": "stderr",
     "output_type": "stream",
     "text": [
      "/Users/jamesrgayvert/miniforge3/envs/rosettapy39/lib/python3.9/site-packages/Bio/PDB/StructureBuilder.py:89: PDBConstructionWarning: WARNING: Chain A is discontinuous at line 8007.\n",
      "  warnings.warn(\n",
      "/Users/jamesrgayvert/miniforge3/envs/rosettapy39/lib/python3.9/site-packages/Bio/PDB/StructureBuilder.py:89: PDBConstructionWarning: WARNING: Chain B is discontinuous at line 8093.\n",
      "  warnings.warn(\n",
      "/Users/jamesrgayvert/miniforge3/envs/rosettapy39/lib/python3.9/site-packages/Bio/PDB/StructureBuilder.py:89: PDBConstructionWarning: WARNING: Chain A is discontinuous at line 8179.\n",
      "  warnings.warn(\n",
      "/Users/jamesrgayvert/miniforge3/envs/rosettapy39/lib/python3.9/site-packages/Bio/PDB/StructureBuilder.py:89: PDBConstructionWarning: WARNING: Chain B is discontinuous at line 8367.\n",
      "  warnings.warn(\n"
     ]
    },
    {
     "name": "stdout",
     "output_type": "stream",
     "text": [
      "Identified 6 non-protein ET active moieties.\n",
      "Fetching PDB 1EFP from RSCB Database...\n",
      "Success!\n",
      "Parsing file: /Users/jamesrgayvert/Documents/work/emap/pyemap/examples/1EFP.pdb\n",
      "Identified 6 non-protein ET active moieties.\n",
      "Fetching PDB 1G28 from RSCB Database...\n"
     ]
    },
    {
     "name": "stderr",
     "output_type": "stream",
     "text": [
      "/Users/jamesrgayvert/miniforge3/envs/rosettapy39/lib/python3.9/site-packages/Bio/PDB/StructureBuilder.py:89: PDBConstructionWarning: WARNING: Chain A is discontinuous at line 8673.\n",
      "  warnings.warn(\n",
      "/Users/jamesrgayvert/miniforge3/envs/rosettapy39/lib/python3.9/site-packages/Bio/PDB/StructureBuilder.py:89: PDBConstructionWarning: WARNING: Chain C is discontinuous at line 8749.\n",
      "  warnings.warn(\n",
      "/Users/jamesrgayvert/miniforge3/envs/rosettapy39/lib/python3.9/site-packages/Bio/PDB/StructureBuilder.py:89: PDBConstructionWarning: WARNING: Chain A is discontinuous at line 8825.\n",
      "  warnings.warn(\n",
      "/Users/jamesrgayvert/miniforge3/envs/rosettapy39/lib/python3.9/site-packages/Bio/PDB/StructureBuilder.py:89: PDBConstructionWarning: WARNING: Chain B is discontinuous at line 8853.\n",
      "  warnings.warn(\n",
      "/Users/jamesrgayvert/miniforge3/envs/rosettapy39/lib/python3.9/site-packages/Bio/PDB/StructureBuilder.py:89: PDBConstructionWarning: WARNING: Chain C is discontinuous at line 8876.\n",
      "  warnings.warn(\n",
      "/Users/jamesrgayvert/miniforge3/envs/rosettapy39/lib/python3.9/site-packages/Bio/PDB/StructureBuilder.py:89: PDBConstructionWarning: WARNING: Chain D is discontinuous at line 8907.\n",
      "  warnings.warn(\n"
     ]
    },
    {
     "name": "stdout",
     "output_type": "stream",
     "text": [
      "Success!\n",
      "Parsing file: /Users/jamesrgayvert/Documents/work/emap/pyemap/examples/1G28.pdb\n",
      "Identified 4 non-protein ET active moieties.\n",
      "Fetching PDB 1IQR from RSCB Database...\n"
     ]
    },
    {
     "name": "stderr",
     "output_type": "stream",
     "text": [
      "/Users/jamesrgayvert/miniforge3/envs/rosettapy39/lib/python3.9/site-packages/Bio/PDB/StructureBuilder.py:89: PDBConstructionWarning: WARNING: Chain A is discontinuous at line 3726.\n",
      "  warnings.warn(\n",
      "/Users/jamesrgayvert/miniforge3/envs/rosettapy39/lib/python3.9/site-packages/Bio/PDB/StructureBuilder.py:89: PDBConstructionWarning: WARNING: Chain B is discontinuous at line 3757.\n",
      "  warnings.warn(\n",
      "/Users/jamesrgayvert/miniforge3/envs/rosettapy39/lib/python3.9/site-packages/Bio/PDB/StructureBuilder.py:89: PDBConstructionWarning: WARNING: Chain C is discontinuous at line 3788.\n",
      "  warnings.warn(\n",
      "/Users/jamesrgayvert/miniforge3/envs/rosettapy39/lib/python3.9/site-packages/Bio/PDB/StructureBuilder.py:89: PDBConstructionWarning: WARNING: Chain D is discontinuous at line 3819.\n",
      "  warnings.warn(\n",
      "/Users/jamesrgayvert/miniforge3/envs/rosettapy39/lib/python3.9/site-packages/Bio/PDB/StructureBuilder.py:89: PDBConstructionWarning: WARNING: Chain A is discontinuous at line 3850.\n",
      "  warnings.warn(\n",
      "/Users/jamesrgayvert/miniforge3/envs/rosettapy39/lib/python3.9/site-packages/Bio/PDB/StructureBuilder.py:89: PDBConstructionWarning: WARNING: Chain B is discontinuous at line 3866.\n",
      "  warnings.warn(\n",
      "/Users/jamesrgayvert/miniforge3/envs/rosettapy39/lib/python3.9/site-packages/Bio/PDB/StructureBuilder.py:89: PDBConstructionWarning: WARNING: Chain C is discontinuous at line 3876.\n",
      "  warnings.warn(\n",
      "/Users/jamesrgayvert/miniforge3/envs/rosettapy39/lib/python3.9/site-packages/Bio/PDB/StructureBuilder.py:89: PDBConstructionWarning: WARNING: Chain D is discontinuous at line 3890.\n",
      "  warnings.warn(\n"
     ]
    },
    {
     "name": "stdout",
     "output_type": "stream",
     "text": [
      "Success!\n",
      "Parsing file: /Users/jamesrgayvert/Documents/work/emap/pyemap/examples/1IQR.pdb\n",
      "Identified 2 non-protein ET active moieties.\n",
      "Fetching PDB 1IQU from RSCB Database...\n",
      "Success!\n",
      "Parsing file: /Users/jamesrgayvert/Documents/work/emap/pyemap/examples/1IQU.pdb\n",
      "Identified 3 non-protein ET active moieties.\n",
      "Fetching PDB 1NP7 from RSCB Database...\n",
      "Success!\n",
      "Parsing file: /Users/jamesrgayvert/Documents/work/emap/pyemap/examples/1NP7.pdb\n",
      "Identified 4 non-protein ET active moieties.\n",
      "Fetching PDB 1O96 from RSCB Database...\n"
     ]
    },
    {
     "name": "stderr",
     "output_type": "stream",
     "text": [
      "/Users/jamesrgayvert/miniforge3/envs/rosettapy39/lib/python3.9/site-packages/Bio/PDB/StructureBuilder.py:89: PDBConstructionWarning: WARNING: Chain A is discontinuous at line 8597.\n",
      "  warnings.warn(\n",
      "/Users/jamesrgayvert/miniforge3/envs/rosettapy39/lib/python3.9/site-packages/Bio/PDB/StructureBuilder.py:89: PDBConstructionWarning: WARNING: Chain B is discontinuous at line 8660.\n",
      "  warnings.warn(\n",
      "/Users/jamesrgayvert/miniforge3/envs/rosettapy39/lib/python3.9/site-packages/Bio/PDB/StructureBuilder.py:89: PDBConstructionWarning: WARNING: Chain A is discontinuous at line 8718.\n",
      "  warnings.warn(\n",
      "/Users/jamesrgayvert/miniforge3/envs/rosettapy39/lib/python3.9/site-packages/Bio/PDB/StructureBuilder.py:89: PDBConstructionWarning: WARNING: Chain B is discontinuous at line 8919.\n",
      "  warnings.warn(\n"
     ]
    },
    {
     "name": "stdout",
     "output_type": "stream",
     "text": [
      "Success!\n",
      "Parsing file: /Users/jamesrgayvert/Documents/work/emap/pyemap/examples/1O96.pdb\n"
     ]
    },
    {
     "name": "stderr",
     "output_type": "stream",
     "text": [
      "/Users/jamesrgayvert/miniforge3/envs/rosettapy39/lib/python3.9/site-packages/Bio/PDB/StructureBuilder.py:89: PDBConstructionWarning: WARNING: Chain A is discontinuous at line 18212.\n",
      "  warnings.warn(\n",
      "/Users/jamesrgayvert/miniforge3/envs/rosettapy39/lib/python3.9/site-packages/Bio/PDB/StructureBuilder.py:89: PDBConstructionWarning: WARNING: Chain B is discontinuous at line 18235.\n",
      "  warnings.warn(\n",
      "/Users/jamesrgayvert/miniforge3/envs/rosettapy39/lib/python3.9/site-packages/Bio/PDB/StructureBuilder.py:89: PDBConstructionWarning: WARNING: Chain C is discontinuous at line 18288.\n",
      "  warnings.warn(\n",
      "/Users/jamesrgayvert/miniforge3/envs/rosettapy39/lib/python3.9/site-packages/Bio/PDB/StructureBuilder.py:89: PDBConstructionWarning: WARNING: Chain D is discontinuous at line 18311.\n",
      "  warnings.warn(\n",
      "/Users/jamesrgayvert/miniforge3/envs/rosettapy39/lib/python3.9/site-packages/Bio/PDB/StructureBuilder.py:89: PDBConstructionWarning: WARNING: Chain E is discontinuous at line 18364.\n",
      "  warnings.warn(\n",
      "/Users/jamesrgayvert/miniforge3/envs/rosettapy39/lib/python3.9/site-packages/Bio/PDB/StructureBuilder.py:89: PDBConstructionWarning: WARNING: Chain F is discontinuous at line 18387.\n",
      "  warnings.warn(\n",
      "/Users/jamesrgayvert/miniforge3/envs/rosettapy39/lib/python3.9/site-packages/Bio/PDB/StructureBuilder.py:89: PDBConstructionWarning: WARNING: Chain Q is discontinuous at line 18440.\n",
      "  warnings.warn(\n",
      "/Users/jamesrgayvert/miniforge3/envs/rosettapy39/lib/python3.9/site-packages/Bio/PDB/StructureBuilder.py:89: PDBConstructionWarning: WARNING: Chain Z is discontinuous at line 18463.\n",
      "  warnings.warn(\n"
     ]
    },
    {
     "name": "stdout",
     "output_type": "stream",
     "text": [
      "Identified 12 non-protein ET active moieties.\n",
      "Fetching PDB 1O97 from RSCB Database...\n",
      "Success!\n",
      "Parsing file: /Users/jamesrgayvert/Documents/work/emap/pyemap/examples/1O97.pdb\n",
      "Identified 3 non-protein ET active moieties.\n",
      "Fetching PDB 1QNF from RSCB Database...\n"
     ]
    },
    {
     "name": "stderr",
     "output_type": "stream",
     "text": [
      "/Users/jamesrgayvert/miniforge3/envs/rosettapy39/lib/python3.9/site-packages/Bio/PDB/StructureBuilder.py:89: PDBConstructionWarning: WARNING: Chain C is discontinuous at line 4831.\n",
      "  warnings.warn(\n",
      "/Users/jamesrgayvert/miniforge3/envs/rosettapy39/lib/python3.9/site-packages/Bio/PDB/StructureBuilder.py:89: PDBConstructionWarning: WARNING: Chain D is discontinuous at line 4854.\n",
      "  warnings.warn(\n",
      "/Users/jamesrgayvert/miniforge3/envs/rosettapy39/lib/python3.9/site-packages/Bio/PDB/StructureBuilder.py:89: PDBConstructionWarning: WARNING: Chain C is discontinuous at line 4907.\n",
      "  warnings.warn(\n",
      "/Users/jamesrgayvert/miniforge3/envs/rosettapy39/lib/python3.9/site-packages/Bio/PDB/StructureBuilder.py:89: PDBConstructionWarning: WARNING: Chain D is discontinuous at line 5194.\n",
      "  warnings.warn(\n"
     ]
    },
    {
     "name": "stdout",
     "output_type": "stream",
     "text": [
      "Success!\n",
      "Parsing file: /Users/jamesrgayvert/Documents/work/emap/pyemap/examples/1QNF.pdb\n",
      "Identified 3 non-protein ET active moieties.\n",
      "Fetching PDB 1U3C from RSCB Database...\n",
      "Success!\n",
      "Parsing file: /Users/jamesrgayvert/Documents/work/emap/pyemap/examples/1U3C.pdb\n",
      "Identified 2 non-protein ET active moieties.\n",
      "Fetching PDB 1U3D from RSCB Database...\n",
      "Success!\n",
      "Parsing file: /Users/jamesrgayvert/Documents/work/emap/pyemap/examples/1U3D.pdb\n",
      "Identified 3 non-protein ET active moieties.\n",
      "Fetching PDB 2IYG from RSCB Database...\n",
      "Success!\n",
      "Parsing file: /Users/jamesrgayvert/Documents/work/emap/pyemap/examples/2IYG.pdb\n",
      "Identified 2 non-protein ET active moieties.\n",
      "Fetching PDB 2J4D from RSCB Database...\n"
     ]
    },
    {
     "name": "stderr",
     "output_type": "stream",
     "text": [
      "/Users/jamesrgayvert/miniforge3/envs/rosettapy39/lib/python3.9/site-packages/Bio/PDB/StructureBuilder.py:89: PDBConstructionWarning: WARNING: Chain A is discontinuous at line 2211.\n",
      "  warnings.warn(\n",
      "/Users/jamesrgayvert/miniforge3/envs/rosettapy39/lib/python3.9/site-packages/Bio/PDB/StructureBuilder.py:89: PDBConstructionWarning: WARNING: Chain B is discontinuous at line 2250.\n",
      "  warnings.warn(\n",
      "/Users/jamesrgayvert/miniforge3/envs/rosettapy39/lib/python3.9/site-packages/Bio/PDB/StructureBuilder.py:89: PDBConstructionWarning: WARNING: Chain A is discontinuous at line 2289.\n",
      "  warnings.warn(\n",
      "/Users/jamesrgayvert/miniforge3/envs/rosettapy39/lib/python3.9/site-packages/Bio/PDB/StructureBuilder.py:89: PDBConstructionWarning: WARNING: Chain B is discontinuous at line 2318.\n",
      "  warnings.warn(\n"
     ]
    },
    {
     "name": "stdout",
     "output_type": "stream",
     "text": [
      "Success!\n",
      "Parsing file: /Users/jamesrgayvert/Documents/work/emap/pyemap/examples/2J4D.pdb\n",
      "Identified 8 non-protein ET active moieties.\n",
      "Fetching PDB 2WB2 from RSCB Database...\n"
     ]
    },
    {
     "name": "stderr",
     "output_type": "stream",
     "text": [
      "/Users/jamesrgayvert/miniforge3/envs/rosettapy39/lib/python3.9/site-packages/Bio/PDB/StructureBuilder.py:89: PDBConstructionWarning: WARNING: Chain A is discontinuous at line 8830.\n",
      "  warnings.warn(\n",
      "/Users/jamesrgayvert/miniforge3/envs/rosettapy39/lib/python3.9/site-packages/Bio/PDB/StructureBuilder.py:89: PDBConstructionWarning: WARNING: Chain B is discontinuous at line 8916.\n",
      "  warnings.warn(\n",
      "/Users/jamesrgayvert/miniforge3/envs/rosettapy39/lib/python3.9/site-packages/Bio/PDB/StructureBuilder.py:89: PDBConstructionWarning: WARNING: Chain A is discontinuous at line 9002.\n",
      "  warnings.warn(\n",
      "/Users/jamesrgayvert/miniforge3/envs/rosettapy39/lib/python3.9/site-packages/Bio/PDB/StructureBuilder.py:89: PDBConstructionWarning: WARNING: Chain B is discontinuous at line 9439.\n",
      "  warnings.warn(\n"
     ]
    },
    {
     "name": "stdout",
     "output_type": "stream",
     "text": [
      "Success!\n",
      "Parsing file: /Users/jamesrgayvert/Documents/work/emap/pyemap/examples/2WB2.pdb\n",
      "Identified 31 non-protein ET active moieties.\n"
     ]
    },
    {
     "name": "stderr",
     "output_type": "stream",
     "text": [
      "/Users/jamesrgayvert/miniforge3/envs/rosettapy39/lib/python3.9/site-packages/Bio/PDB/StructureBuilder.py:89: PDBConstructionWarning: WARNING: Chain A is discontinuous at line 5734.\n",
      "  warnings.warn(\n"
     ]
    },
    {
     "name": "stdout",
     "output_type": "stream",
     "text": [
      "Fetching PDB 2Z6C from RSCB Database...\n",
      "Success!\n",
      "Parsing file: /Users/jamesrgayvert/Documents/work/emap/pyemap/examples/2Z6C.pdb\n",
      "Identified 2 non-protein ET active moieties.\n",
      "Fetching PDB 3FY4 from RSCB Database...\n"
     ]
    },
    {
     "name": "stderr",
     "output_type": "stream",
     "text": [
      "/Users/jamesrgayvert/miniforge3/envs/rosettapy39/lib/python3.9/site-packages/Bio/PDB/StructureBuilder.py:89: PDBConstructionWarning: WARNING: Chain A is discontinuous at line 2342.\n",
      "  warnings.warn(\n",
      "/Users/jamesrgayvert/miniforge3/envs/rosettapy39/lib/python3.9/site-packages/Bio/PDB/StructureBuilder.py:89: PDBConstructionWarning: WARNING: Chain B is discontinuous at line 2373.\n",
      "  warnings.warn(\n",
      "/Users/jamesrgayvert/miniforge3/envs/rosettapy39/lib/python3.9/site-packages/Bio/PDB/StructureBuilder.py:89: PDBConstructionWarning: WARNING: Chain A is discontinuous at line 2404.\n",
      "  warnings.warn(\n",
      "/Users/jamesrgayvert/miniforge3/envs/rosettapy39/lib/python3.9/site-packages/Bio/PDB/StructureBuilder.py:89: PDBConstructionWarning: WARNING: Chain B is discontinuous at line 2483.\n",
      "  warnings.warn(\n"
     ]
    },
    {
     "name": "stdout",
     "output_type": "stream",
     "text": [
      "Success!\n",
      "Parsing file: /Users/jamesrgayvert/Documents/work/emap/pyemap/examples/3FY4.pdb\n"
     ]
    },
    {
     "name": "stderr",
     "output_type": "stream",
     "text": [
      "/Users/jamesrgayvert/miniforge3/envs/rosettapy39/lib/python3.9/site-packages/Bio/PDB/StructureBuilder.py:89: PDBConstructionWarning: WARNING: Chain A is discontinuous at line 13425.\n",
      "  warnings.warn(\n",
      "/Users/jamesrgayvert/miniforge3/envs/rosettapy39/lib/python3.9/site-packages/Bio/PDB/StructureBuilder.py:89: PDBConstructionWarning: WARNING: Chain C is discontinuous at line 13510.\n",
      "  warnings.warn(\n",
      "/Users/jamesrgayvert/miniforge3/envs/rosettapy39/lib/python3.9/site-packages/Bio/PDB/StructureBuilder.py:89: PDBConstructionWarning: WARNING: Chain B is discontinuous at line 13590.\n",
      "  warnings.warn(\n",
      "/Users/jamesrgayvert/miniforge3/envs/rosettapy39/lib/python3.9/site-packages/Bio/PDB/StructureBuilder.py:89: PDBConstructionWarning: WARNING: Chain A is discontinuous at line 13685.\n",
      "  warnings.warn(\n",
      "/Users/jamesrgayvert/miniforge3/envs/rosettapy39/lib/python3.9/site-packages/Bio/PDB/StructureBuilder.py:89: PDBConstructionWarning: WARNING: Chain C is discontinuous at line 13929.\n",
      "  warnings.warn(\n",
      "/Users/jamesrgayvert/miniforge3/envs/rosettapy39/lib/python3.9/site-packages/Bio/PDB/StructureBuilder.py:89: PDBConstructionWarning: WARNING: Chain B is discontinuous at line 14176.\n",
      "  warnings.warn(\n"
     ]
    },
    {
     "name": "stdout",
     "output_type": "stream",
     "text": [
      "Identified 16 non-protein ET active moieties.\n",
      "Fetching PDB 3ZXS from RSCB Database...\n",
      "Success!\n",
      "Parsing file: /Users/jamesrgayvert/Documents/work/emap/pyemap/examples/3ZXS.pdb\n"
     ]
    },
    {
     "name": "stderr",
     "output_type": "stream",
     "text": [
      "/Users/jamesrgayvert/miniforge3/envs/rosettapy39/lib/python3.9/site-packages/Bio/PDB/StructureBuilder.py:89: PDBConstructionWarning: WARNING: Chain A is discontinuous at line 25427.\n",
      "  warnings.warn(\n",
      "/Users/jamesrgayvert/miniforge3/envs/rosettapy39/lib/python3.9/site-packages/Bio/PDB/StructureBuilder.py:89: PDBConstructionWarning: WARNING: Chain B is discontinuous at line 25513.\n",
      "  warnings.warn(\n",
      "/Users/jamesrgayvert/miniforge3/envs/rosettapy39/lib/python3.9/site-packages/Bio/PDB/StructureBuilder.py:89: PDBConstructionWarning: WARNING: Chain C is discontinuous at line 25599.\n",
      "  warnings.warn(\n",
      "/Users/jamesrgayvert/miniforge3/envs/rosettapy39/lib/python3.9/site-packages/Bio/PDB/StructureBuilder.py:89: PDBConstructionWarning: WARNING: Chain A is discontinuous at line 25685.\n",
      "  warnings.warn(\n",
      "/Users/jamesrgayvert/miniforge3/envs/rosettapy39/lib/python3.9/site-packages/Bio/PDB/StructureBuilder.py:89: PDBConstructionWarning: WARNING: Chain B is discontinuous at line 26042.\n",
      "  warnings.warn(\n",
      "/Users/jamesrgayvert/miniforge3/envs/rosettapy39/lib/python3.9/site-packages/Bio/PDB/StructureBuilder.py:89: PDBConstructionWarning: WARNING: Chain C is discontinuous at line 26338.\n",
      "  warnings.warn(\n"
     ]
    },
    {
     "name": "stdout",
     "output_type": "stream",
     "text": [
      "Identified 12 non-protein ET active moieties.\n",
      "Fetching PDB 4EER from RSCB Database...\n",
      "Success!\n",
      "Parsing file: /Users/jamesrgayvert/Documents/work/emap/pyemap/examples/4EER.pdb\n",
      "Identified 1 non-protein ET active moieties.\n",
      "Fetching PDB 4GU5 from RSCB Database...\n",
      "Success!\n",
      "Parsing file: /Users/jamesrgayvert/Documents/work/emap/pyemap/examples/4GU5.pdb\n"
     ]
    },
    {
     "name": "stderr",
     "output_type": "stream",
     "text": [
      "/Users/jamesrgayvert/miniforge3/envs/rosettapy39/lib/python3.9/site-packages/Bio/PDB/StructureBuilder.py:89: PDBConstructionWarning: WARNING: Chain A is discontinuous at line 9311.\n",
      "  warnings.warn(\n",
      "/Users/jamesrgayvert/miniforge3/envs/rosettapy39/lib/python3.9/site-packages/Bio/PDB/StructureBuilder.py:89: PDBConstructionWarning: WARNING: Chain B is discontinuous at line 9365.\n",
      "  warnings.warn(\n",
      "/Users/jamesrgayvert/miniforge3/envs/rosettapy39/lib/python3.9/site-packages/Bio/PDB/StructureBuilder.py:89: PDBConstructionWarning: WARNING: Chain A is discontinuous at line 9419.\n",
      "  warnings.warn(\n",
      "/Users/jamesrgayvert/miniforge3/envs/rosettapy39/lib/python3.9/site-packages/Bio/PDB/StructureBuilder.py:89: PDBConstructionWarning: WARNING: Chain B is discontinuous at line 9584.\n",
      "  warnings.warn(\n"
     ]
    },
    {
     "name": "stdout",
     "output_type": "stream",
     "text": [
      "Identified 4 non-protein ET active moieties.\n",
      "Fetching PDB 4I6G from RSCB Database...\n",
      "Success!\n",
      "Parsing file: /Users/jamesrgayvert/Documents/work/emap/pyemap/examples/4I6G.pdb\n"
     ]
    },
    {
     "name": "stderr",
     "output_type": "stream",
     "text": [
      "/Users/jamesrgayvert/miniforge3/envs/rosettapy39/lib/python3.9/site-packages/Bio/PDB/StructureBuilder.py:89: PDBConstructionWarning: WARNING: Chain A is discontinuous at line 16540.\n",
      "  warnings.warn(\n",
      "/Users/jamesrgayvert/miniforge3/envs/rosettapy39/lib/python3.9/site-packages/Bio/PDB/StructureBuilder.py:89: PDBConstructionWarning: WARNING: Chain B is discontinuous at line 16646.\n",
      "  warnings.warn(\n",
      "/Users/jamesrgayvert/miniforge3/envs/rosettapy39/lib/python3.9/site-packages/Bio/PDB/StructureBuilder.py:89: PDBConstructionWarning: WARNING: Chain A is discontinuous at line 16752.\n",
      "  warnings.warn(\n",
      "/Users/jamesrgayvert/miniforge3/envs/rosettapy39/lib/python3.9/site-packages/Bio/PDB/StructureBuilder.py:89: PDBConstructionWarning: WARNING: Chain B is discontinuous at line 16902.\n",
      "  warnings.warn(\n"
     ]
    },
    {
     "name": "stdout",
     "output_type": "stream",
     "text": [
      "Identified 4 non-protein ET active moieties.\n",
      "Fetching PDB 4U63 from RSCB Database...\n",
      "Success!\n",
      "Parsing file: /Users/jamesrgayvert/Documents/work/emap/pyemap/examples/4U63.pdb\n",
      "Identified 3 non-protein ET active moieties.\n",
      "Fetching PDB 6FN2 from RSCB Database...\n",
      "Success!\n",
      "Parsing file: /Users/jamesrgayvert/Documents/work/emap/pyemap/examples/6FN2.pdb\n",
      "Identified 3 non-protein ET active moieties.\n",
      "Fetching PDB 6KII from RSCB Database...\n",
      "Success!\n",
      "Parsing file: /Users/jamesrgayvert/Documents/work/emap/pyemap/examples/6KII.pdb\n",
      "Identified 4 non-protein ET active moieties.\n",
      "Fetching PDB 6LZ3 from RSCB Database...\n",
      "Success!\n",
      "Parsing file: /Users/jamesrgayvert/Documents/work/emap/pyemap/examples/6LZ3.pdb\n"
     ]
    },
    {
     "name": "stderr",
     "output_type": "stream",
     "text": [
      "/Users/jamesrgayvert/miniforge3/envs/rosettapy39/lib/python3.9/site-packages/Bio/PDB/StructureBuilder.py:89: PDBConstructionWarning: WARNING: Chain A is discontinuous at line 17212.\n",
      "  warnings.warn(\n",
      "/Users/jamesrgayvert/miniforge3/envs/rosettapy39/lib/python3.9/site-packages/Bio/PDB/StructureBuilder.py:89: PDBConstructionWarning: WARNING: Chain B is discontinuous at line 17265.\n",
      "  warnings.warn(\n",
      "/Users/jamesrgayvert/miniforge3/envs/rosettapy39/lib/python3.9/site-packages/Bio/PDB/StructureBuilder.py:89: PDBConstructionWarning: WARNING: Chain C is discontinuous at line 17318.\n",
      "  warnings.warn(\n",
      "/Users/jamesrgayvert/miniforge3/envs/rosettapy39/lib/python3.9/site-packages/Bio/PDB/StructureBuilder.py:89: PDBConstructionWarning: WARNING: Chain D is discontinuous at line 17371.\n",
      "  warnings.warn(\n"
     ]
    },
    {
     "name": "stdout",
     "output_type": "stream",
     "text": [
      "Identified 8 non-protein ET active moieties.\n",
      "Fetching PDB 6PU0 from RSCB Database...\n",
      "Success!\n",
      "Parsing file: /Users/jamesrgayvert/Documents/work/emap/pyemap/examples/6PU0.pdb\n",
      "Identified 2 non-protein ET active moieties.\n",
      "Fetching PDB 6RKF from RSCB Database...\n",
      "Success!\n",
      "Parsing file: /Users/jamesrgayvert/Documents/work/emap/pyemap/examples/6RKF.pdb\n",
      "Identified 12 non-protein ET active moieties.\n"
     ]
    },
    {
     "name": "stderr",
     "output_type": "stream",
     "text": [
      "/Users/jamesrgayvert/miniforge3/envs/rosettapy39/lib/python3.9/site-packages/Bio/PDB/StructureBuilder.py:89: PDBConstructionWarning: WARNING: Chain A is discontinuous at line 32953.\n",
      "  warnings.warn(\n",
      "/Users/jamesrgayvert/miniforge3/envs/rosettapy39/lib/python3.9/site-packages/Bio/PDB/StructureBuilder.py:89: PDBConstructionWarning: WARNING: Chain B is discontinuous at line 33025.\n",
      "  warnings.warn(\n",
      "/Users/jamesrgayvert/miniforge3/envs/rosettapy39/lib/python3.9/site-packages/Bio/PDB/StructureBuilder.py:89: PDBConstructionWarning: WARNING: Chain C is discontinuous at line 33084.\n",
      "  warnings.warn(\n",
      "/Users/jamesrgayvert/miniforge3/envs/rosettapy39/lib/python3.9/site-packages/Bio/PDB/StructureBuilder.py:89: PDBConstructionWarning: WARNING: Chain D is discontinuous at line 33151.\n",
      "  warnings.warn(\n",
      "/Users/jamesrgayvert/miniforge3/envs/rosettapy39/lib/python3.9/site-packages/Bio/PDB/StructureBuilder.py:89: PDBConstructionWarning: WARNING: Chain E is discontinuous at line 33210.\n",
      "  warnings.warn(\n",
      "/Users/jamesrgayvert/miniforge3/envs/rosettapy39/lib/python3.9/site-packages/Bio/PDB/StructureBuilder.py:89: PDBConstructionWarning: WARNING: Chain F is discontinuous at line 33269.\n",
      "  warnings.warn(\n",
      "/Users/jamesrgayvert/miniforge3/envs/rosettapy39/lib/python3.9/site-packages/Bio/PDB/StructureBuilder.py:89: PDBConstructionWarning: WARNING: Chain A is discontinuous at line 33341.\n",
      "  warnings.warn(\n",
      "/Users/jamesrgayvert/miniforge3/envs/rosettapy39/lib/python3.9/site-packages/Bio/PDB/StructureBuilder.py:89: PDBConstructionWarning: WARNING: Chain B is discontinuous at line 33376.\n",
      "  warnings.warn(\n",
      "/Users/jamesrgayvert/miniforge3/envs/rosettapy39/lib/python3.9/site-packages/Bio/PDB/StructureBuilder.py:89: PDBConstructionWarning: WARNING: Chain C is discontinuous at line 33411.\n",
      "  warnings.warn(\n",
      "/Users/jamesrgayvert/miniforge3/envs/rosettapy39/lib/python3.9/site-packages/Bio/PDB/StructureBuilder.py:89: PDBConstructionWarning: WARNING: Chain D is discontinuous at line 33436.\n",
      "  warnings.warn(\n",
      "/Users/jamesrgayvert/miniforge3/envs/rosettapy39/lib/python3.9/site-packages/Bio/PDB/StructureBuilder.py:89: PDBConstructionWarning: WARNING: Chain E is discontinuous at line 33463.\n",
      "  warnings.warn(\n",
      "/Users/jamesrgayvert/miniforge3/envs/rosettapy39/lib/python3.9/site-packages/Bio/PDB/StructureBuilder.py:89: PDBConstructionWarning: WARNING: Chain F is discontinuous at line 33489.\n",
      "  warnings.warn(\n"
     ]
    }
   ],
   "source": [
    "import pyemap \n",
    "from pyemap.graph_mining import PDBGroup \n",
    "pdb_ids = ['1X0P', '1DNP', '1EFP', '1G28', '1IQR', '1IQU', '1NP7', '1O96', '1O97', '1QNF', '1U3C', '1U3D', '2IYG', '2J4D', '2WB2', '2Z6C', '3FY4', '3ZXS', '4EER', '4GU5', '4I6G', '4U63', '6FN2', '6KII', '6LZ3', '6PU0', '6RKF'] \n",
    "pg = PDBGroup('My Group') \n",
    "for pdb in pdb_ids: \n",
    "    pg.add_emap(pyemap.fetch_and_parse(pdb)) "
   ]
  },
  {
   "cell_type": "markdown",
   "id": "ee4c446f",
   "metadata": {},
   "source": [
    "## Generating Protein Graphs"
   ]
  },
  {
   "cell_type": "markdown",
   "id": "4863f863",
   "metadata": {},
   "source": [
    "The next step is to generate the graphs for each PDB. One can specify the chains, ET active moieties, residues, and any other kwargs from `pyemap.process`."
   ]
  },
  {
   "cell_type": "code",
   "execution_count": 2,
   "id": "500824ac",
   "metadata": {},
   "outputs": [],
   "source": [
    "process_kwargs = {'sdef': None, 'dist_def': 'COM', 'rsa_thresh': 0.05, 'rd_thresh': 3.03, 'distance_cutoff': 20.0, 'percent_edges': 1.0, 'edge_prune': 'DEGREE', 'num_st_dev_edges': 1.0, 'coef_alpha': 1.0, 'exp_beta': 2.3, 'r_offset': 0.0} \n",
    "chains = {'1X0P': ['A'], '1DNP': ['A'], '1EFP': ['A'], '1G28': ['A'], '1IQR': ['A'], '1IQU': ['A'], '1NP7': ['A'], '1O96': ['A'], '1O97': ['C'], '1QNF': ['A'], '1U3C': ['A'], '1U3D': ['A'], '2IYG': ['A'], '2J4D': ['A'], '2WB2': ['A'], '2Z6C': ['A'], '3FY4': ['A'], '3ZXS': ['A'], '4EER': ['A'], '4GU5': ['A'], '4I6G': ['A'], '4U63': ['A'], '6FN2': ['A'], '6KII': ['A'], '6LZ3': ['A'], '6PU0': ['A'], '6RKF': ['A']} \n",
    "include_residues = ['W', 'Y'] \n",
    "included_eta_moieties = {'1X0P': ['FAD9150(A)'], '1DNP': ['FAD472(A)-1', 'FAD472(A)-2', 'MHF473(A)'], '1EFP': ['FAD399(A)-1', 'FAD399(A)-2', 'AMP400(A)'], '1G28': ['FMN1033(A)'], '1IQR': ['FAD421(A)-1', 'FAD421(A)-2'], '1IQU': ['TDR500(A)', 'FAD421(A)-1', 'FAD421(A)-2'], '1NP7': ['FAD500(A)-1', 'FAD500(A)-2'], '1O96': ['AMP1263(A)'], '1O97': ['AMP1262(C)'], '1QNF': ['FAD485(A)-1', 'FAD485(A)-2', 'HDF486(A)'], '1U3C': ['FAD510(A)-1', 'FAD510(A)-2'], '1U3D': ['FAD510(A)-1', 'FAD510(A)-2', 'ANP511(A)'], '2IYG': ['FMN1122(A)'], '2J4D': ['FAD1498(A)-1', 'FAD1498(A)-2', 'MHF1499(A)-1', 'MHF1499(A)-2'], '2WB2': ['FAD1510(A)-1', 'FAD1510(A)-2'], '2Z6C': ['FMN500(A)'], '3FY4': ['IMD901(A)', 'IMD902(A)', 'IMD905(A)', 'FAD900(A)-1', 'FAD900(A)-2'], '3ZXS': ['FAD1509(A)-1', 'FAD1509(A)-2', 'DLZ1511(A)', 'SF41510(A)'], '4EER': ['FMN1001(A)'], '4GU5': ['FAD602(A)-1', 'FAD602(A)-2'], '4I6G': ['FAD900(A)-1', 'FAD900(A)-2'], '4U63': ['MHF1001(A)', 'FAD1002(A)-1', 'FAD1002(A)-2'], '6FN2': ['FAD601(A)-1', 'FAD601(A)-2', 'HDF602(A)'], '6KII': ['FAD501(A)-1', 'FAD501(A)-2', 'MHF502(A)-1', 'MHF502(A)-2'], '6LZ3': ['FAD701(A)-1', 'FAD701(A)-2'], '6PU0': ['FAD501(A)-1', 'FAD501(A)-2'], '6RKF': ['FAD401(A)-1', 'FAD401(A)-2']} "
   ]
  },
  {
   "cell_type": "markdown",
   "id": "fa522f88",
   "metadata": {},
   "source": [
    "Call `process.emaps` to generate graphs for all of the PDBs."
   ]
  },
  {
   "cell_type": "code",
   "execution_count": 3,
   "id": "a7cdaf8f",
   "metadata": {},
   "outputs": [
    {
     "name": "stderr",
     "output_type": "stream",
     "text": [
      "/Users/jamesrgayvert/Documents/work/emap/pyemap/pyemap/process_data.py:732: UserWarning: Protein surface will not be computed. All residues will be classified as buried...\n",
      "  warnings.warn(\"Protein surface will not be computed. All residues will be classified as buried...\")\n"
     ]
    }
   ],
   "source": [
    "pg.process_emaps(chains=chains, eta_moieties=included_eta_moieties, include_residues=include_residues, **process_kwargs) "
   ]
  },
  {
   "cell_type": "markdown",
   "id": "d4596888",
   "metadata": {},
   "source": [
    "## Generate graph database\n",
    "The next step is to classify the nodes and edges. One can define \"substitutions\" for nodes, and thresholds for edges."
   ]
  },
  {
   "cell_type": "code",
   "execution_count": 4,
   "id": "3ee09faa",
   "metadata": {},
   "outputs": [],
   "source": [
    "# W and Y will be interchangeable and given the label 'X'\n",
    "substitutions = ['W','Y']\n",
    "# edges with weights > 12 are distinguished from those with weights < 12\n",
    "edge_thresholds = [12] \n",
    "pg.generate_graph_database(sub=[],edge_thresh=edge_thresholds) "
   ]
  },
  {
   "cell_type": "markdown",
   "id": "be220868",
   "metadata": {},
   "source": [
    "## Mine for subgraphs\n",
    "There are two types of searches available in PyeMap. One can mine for all possible subgraphs:"
   ]
  },
  {
   "cell_type": "code",
   "execution_count": 5,
   "id": "44a55338",
   "metadata": {},
   "outputs": [
    {
     "name": "stdout",
     "output_type": "stream",
     "text": [
      "Overview of all subgraphs:\n",
      "Generated:\n",
      "2022-01-27 15:29:22.923270\n",
      "Graph Parameters:\n",
      "{'sdef': None, 'dist_def': 'COM', 'rsa_thresh': 0.05, 'rd_thresh': 3.03, 'distance_cutoff': 20.0, 'percent_edges': 1.0, 'edge_prune': 'DEGREE', 'num_st_dev_edges': 1.0, 'coef_alpha': 1.0, 'exp_beta': 2.3, 'r_offset': 0.0, 'max_degree': 4}\n",
      "Included residues:\n",
      "['W', 'Y']\n",
      "Mining parameters:\n",
      "{'min_support': 19, 'min_num_vertices': 4, 'max_num_vertices': inf, 'graph_specification': []}\n",
      "Chains:\n",
      "{'1X0P': ['A'], '1DNP': ['A'], '1EFP': ['A'], '1G28': ['A'], '1IQR': ['A'], '1IQU': ['A'], '1NP7': ['A'], '1O96': ['A'], '1O97': ['C'], '1QNF': ['A'], '1U3C': ['A'], '1U3D': ['A'], '2IYG': ['A'], '2J4D': ['A'], '2WB2': ['A'], '2Z6C': ['A'], '3FY4': ['A'], '3ZXS': ['A'], '4EER': ['A'], '4GU5': ['A'], '4I6G': ['A'], '4U63': ['A'], '6FN2': ['A'], '6KII': ['A'], '6LZ3': ['A'], '6PU0': ['A'], '6RKF': ['A']}\n",
      "Included non protein moieties:\n",
      "{'1X0P': ['FAD9150(A)'], '1DNP': ['FAD472(A)-1', 'FAD472(A)-2', 'MHF473(A)'], '1EFP': ['FAD399(A)-1', 'FAD399(A)-2', 'AMP400(A)'], '1G28': ['FMN1033(A)'], '1IQR': ['FAD421(A)-1', 'FAD421(A)-2'], '1IQU': ['TDR500(A)', 'FAD421(A)-1', 'FAD421(A)-2'], '1NP7': ['FAD500(A)-1', 'FAD500(A)-2'], '1O96': ['AMP1263(A)'], '1O97': ['AMP1262(C)'], '1QNF': ['FAD485(A)-1', 'FAD485(A)-2', 'HDF486(A)'], '1U3C': ['FAD510(A)-1', 'FAD510(A)-2'], '1U3D': ['FAD510(A)-1', 'FAD510(A)-2', 'ANP511(A)'], '2IYG': ['FMN1122(A)'], '2J4D': ['FAD1498(A)-1', 'FAD1498(A)-2', 'MHF1499(A)-1', 'MHF1499(A)-2'], '2WB2': ['FAD1510(A)-1', 'FAD1510(A)-2'], '2Z6C': ['FMN500(A)'], '3FY4': ['IMD901(A)', 'IMD902(A)', 'IMD905(A)', 'FAD900(A)-1', 'FAD900(A)-2'], '3ZXS': ['FAD1509(A)-1', 'FAD1509(A)-2', 'DLZ1511(A)', 'SF41510(A)'], '4EER': ['FMN1001(A)'], '4GU5': ['FAD602(A)-1', 'FAD602(A)-2'], '4I6G': ['FAD900(A)-1', 'FAD900(A)-2'], '4U63': ['MHF1001(A)', 'FAD1002(A)-1', 'FAD1002(A)-2'], '6FN2': ['FAD601(A)-1', 'FAD601(A)-2', 'HDF602(A)'], '6KII': ['FAD501(A)-1', 'FAD501(A)-2', 'MHF502(A)-1', 'MHF502(A)-2'], '6LZ3': ['FAD701(A)-1', 'FAD701(A)-2'], '6PU0': ['FAD501(A)-1', 'FAD501(A)-2'], '6RKF': ['FAD401(A)-1', 'FAD401(A)-2']}\n",
      "Edge thresholds:\n",
      "[12]\n",
      "Node labels:\n",
      "{'W': 2, 'Y': 3, 'X': 4, '#': 5}\n",
      "Residue categories:\n",
      "{2: 'W', 3: 'Y', 4: 'X', 5: '#'}\n",
      "\n",
      "Subgraphs found:\n",
      "\n",
      "ID:1_WWYY_19\n",
      "Support:19\n",
      "Where:['1DNP', '1IQR', '1IQU', '1NP7', '1QNF', '1U3C', '1U3D', '2J4D', '2WB2', '3FY4', '3ZXS', '4GU5', '4I6G', '4U63', '6FN2', '6KII', '6LZ3', '6PU0', '6RKF']\n",
      "Adjacency list:\n",
      "W0:[W1(1)]\n",
      "W1:[W0(1), Y2(1)]\n",
      "Y2:[W1(1), Y3(1)]\n",
      "Y3:[Y2(1)]\n",
      "\n",
      "\n"
     ]
    }
   ],
   "source": [
    "pg.run_gspan(19)\n",
    "print(pg.mining_report())"
   ]
  },
  {
   "cell_type": "markdown",
   "id": "c7bc28fc",
   "metadata": {},
   "source": [
    "Or search for a specific pattern:"
   ]
  },
  {
   "cell_type": "code",
   "execution_count": 6,
   "id": "50abdfb5",
   "metadata": {},
   "outputs": [
    {
     "name": "stdout",
     "output_type": "stream",
     "text": [
      "Overview of all subgraphs:\n",
      "Generated:\n",
      "2022-01-27 15:29:23.054724\n",
      "Graph Parameters:\n",
      "{'sdef': None, 'dist_def': 'COM', 'rsa_thresh': 0.05, 'rd_thresh': 3.03, 'distance_cutoff': 20.0, 'percent_edges': 1.0, 'edge_prune': 'DEGREE', 'num_st_dev_edges': 1.0, 'coef_alpha': 1.0, 'exp_beta': 2.3, 'r_offset': 0.0, 'max_degree': 4}\n",
      "Included residues:\n",
      "['W', 'Y']\n",
      "Mining parameters:\n",
      "{'support': None, 'min_num_vertices': None, 'max_num_vertices': None, 'graph_specification': 'WWW#'}\n",
      "Chains:\n",
      "{'1X0P': ['A'], '1DNP': ['A'], '1EFP': ['A'], '1G28': ['A'], '1IQR': ['A'], '1IQU': ['A'], '1NP7': ['A'], '1O96': ['A'], '1O97': ['C'], '1QNF': ['A'], '1U3C': ['A'], '1U3D': ['A'], '2IYG': ['A'], '2J4D': ['A'], '2WB2': ['A'], '2Z6C': ['A'], '3FY4': ['A'], '3ZXS': ['A'], '4EER': ['A'], '4GU5': ['A'], '4I6G': ['A'], '4U63': ['A'], '6FN2': ['A'], '6KII': ['A'], '6LZ3': ['A'], '6PU0': ['A'], '6RKF': ['A']}\n",
      "Included non protein moieties:\n",
      "{'1X0P': ['FAD9150(A)'], '1DNP': ['FAD472(A)-1', 'FAD472(A)-2', 'MHF473(A)'], '1EFP': ['FAD399(A)-1', 'FAD399(A)-2', 'AMP400(A)'], '1G28': ['FMN1033(A)'], '1IQR': ['FAD421(A)-1', 'FAD421(A)-2'], '1IQU': ['TDR500(A)', 'FAD421(A)-1', 'FAD421(A)-2'], '1NP7': ['FAD500(A)-1', 'FAD500(A)-2'], '1O96': ['AMP1263(A)'], '1O97': ['AMP1262(C)'], '1QNF': ['FAD485(A)-1', 'FAD485(A)-2', 'HDF486(A)'], '1U3C': ['FAD510(A)-1', 'FAD510(A)-2'], '1U3D': ['FAD510(A)-1', 'FAD510(A)-2', 'ANP511(A)'], '2IYG': ['FMN1122(A)'], '2J4D': ['FAD1498(A)-1', 'FAD1498(A)-2', 'MHF1499(A)-1', 'MHF1499(A)-2'], '2WB2': ['FAD1510(A)-1', 'FAD1510(A)-2'], '2Z6C': ['FMN500(A)'], '3FY4': ['IMD901(A)', 'IMD902(A)', 'IMD905(A)', 'FAD900(A)-1', 'FAD900(A)-2'], '3ZXS': ['FAD1509(A)-1', 'FAD1509(A)-2', 'DLZ1511(A)', 'SF41510(A)'], '4EER': ['FMN1001(A)'], '4GU5': ['FAD602(A)-1', 'FAD602(A)-2'], '4I6G': ['FAD900(A)-1', 'FAD900(A)-2'], '4U63': ['MHF1001(A)', 'FAD1002(A)-1', 'FAD1002(A)-2'], '6FN2': ['FAD601(A)-1', 'FAD601(A)-2', 'HDF602(A)'], '6KII': ['FAD501(A)-1', 'FAD501(A)-2', 'MHF502(A)-1', 'MHF502(A)-2'], '6LZ3': ['FAD701(A)-1', 'FAD701(A)-2'], '6PU0': ['FAD501(A)-1', 'FAD501(A)-2'], '6RKF': ['FAD401(A)-1', 'FAD401(A)-2']}\n",
      "Edge thresholds:\n",
      "[12]\n",
      "Node labels:\n",
      "{'W': 2, 'Y': 3, 'X': 4, '#': 5}\n",
      "Residue categories:\n",
      "{2: 'W', 3: 'Y', 4: 'X', 5: '#'}\n",
      "\n",
      "Subgraphs found:\n",
      "\n",
      "ID:1_WWW#_18\n",
      "Support:18\n",
      "Where:['1DNP', '1IQR', '1IQU', '1NP7', '1QNF', '1U3C', '1U3D', '2J4D', '2WB2', '3FY4', '3ZXS', '4GU5', '4I6G', '4U63', '6FN2', '6KII', '6LZ3', '6PU0']\n",
      "Adjacency list:\n",
      "W0:[W1(1)]\n",
      "W1:[W0(1), W2(1)]\n",
      "W2:[W1(1), NP3(1)]\n",
      "NP3:[W2(1)]\n",
      "\n",
      "ID:2_WWW#_14\n",
      "Support:14\n",
      "Where:['1DNP', '1IQR', '1IQU', '1QNF', '1U3C', '1U3D', '2J4D', '2WB2', '3FY4', '4GU5', '4I6G', '4U63', '6LZ3', '6PU0']\n",
      "Adjacency list:\n",
      "W0:[W1(2)]\n",
      "W1:[W0(2), W2(1)]\n",
      "W2:[W1(1), NP3(1)]\n",
      "NP3:[W2(1)]\n",
      "\n",
      "ID:3_WWW#_4\n",
      "Support:4\n",
      "Where:['1DNP', '2J4D', '4U63', '6KII']\n",
      "Adjacency list:\n",
      "W0:[W1(1)]\n",
      "W1:[W0(1), W2(1)]\n",
      "W2:[W1(1), NP3(2)]\n",
      "NP3:[W2(2)]\n",
      "\n",
      "ID:4_WWW#_2\n",
      "Support:2\n",
      "Where:['2J4D', '6RKF']\n",
      "Adjacency list:\n",
      "W0:[W1(1)]\n",
      "W1:[W0(1), W2(2)]\n",
      "W2:[W1(2), NP3(2)]\n",
      "NP3:[W2(2)]\n",
      "\n",
      "ID:5_WWW#_2\n",
      "Support:2\n",
      "Where:['1DNP', '2J4D']\n",
      "Adjacency list:\n",
      "W0:[W1(2)]\n",
      "W1:[W0(2), W2(1)]\n",
      "W2:[W1(1), NP3(2)]\n",
      "NP3:[W2(2)]\n",
      "\n",
      "ID:6_WWW#_2\n",
      "Support:2\n",
      "Where:['1IQU', '4U63']\n",
      "Adjacency list:\n",
      "W0:[W1(1)]\n",
      "W1:[W0(1), W2(2)]\n",
      "W2:[W1(2), NP3(1)]\n",
      "NP3:[W2(1)]\n",
      "\n",
      "ID:7_WWW#_1\n",
      "Support:1\n",
      "Where:['2J4D']\n",
      "Adjacency list:\n",
      "W0:[W1(2)]\n",
      "W1:[W0(2), W2(2)]\n",
      "W2:[W1(2), NP3(2)]\n",
      "NP3:[W2(2)]\n",
      "\n",
      "\n"
     ]
    }
   ],
   "source": [
    "pg.find_subgraph('WWW#')\n",
    "print(pg.mining_report())"
   ]
  },
  {
   "cell_type": "markdown",
   "id": "a07eb45b",
   "metadata": {},
   "source": [
    "## Analysis: Subgraph Patterns\n",
    "The identified subgraphs are stored in the `subgraph_patterns` dictionary."
   ]
  },
  {
   "cell_type": "code",
   "execution_count": 7,
   "id": "0e0c2717",
   "metadata": {},
   "outputs": [
    {
     "data": {
      "text/plain": [
       "{'1_WWW#_18': <pyemap.graph_mining.frequent_subgraph.SubgraphPattern at 0x183e87cd0>,\n",
       " '2_WWW#_14': <pyemap.graph_mining.frequent_subgraph.SubgraphPattern at 0x183e67fa0>,\n",
       " '3_WWW#_4': <pyemap.graph_mining.frequent_subgraph.SubgraphPattern at 0x18403c160>,\n",
       " '4_WWW#_2': <pyemap.graph_mining.frequent_subgraph.SubgraphPattern at 0x183fe9100>,\n",
       " '5_WWW#_2': <pyemap.graph_mining.frequent_subgraph.SubgraphPattern at 0x18403ca90>,\n",
       " '6_WWW#_2': <pyemap.graph_mining.frequent_subgraph.SubgraphPattern at 0x18403cb20>,\n",
       " '7_WWW#_1': <pyemap.graph_mining.frequent_subgraph.SubgraphPattern at 0x184030430>}"
      ]
     },
     "execution_count": 7,
     "metadata": {},
     "output_type": "execute_result"
    }
   ],
   "source": [
    "pg.subgraph_patterns"
   ]
  },
  {
   "cell_type": "code",
   "execution_count": 8,
   "id": "fc719e23",
   "metadata": {},
   "outputs": [
    {
     "name": "stdout",
     "output_type": "stream",
     "text": [
      "ID:1_WWW#_18\n",
      "Support:18\n",
      "Where:['1DNP', '1IQR', '1IQU', '1NP7', '1QNF', '1U3C', '1U3D', '2J4D', '2WB2', '3FY4', '3ZXS', '4GU5', '4I6G', '4U63', '6FN2', '6KII', '6LZ3', '6PU0']\n",
      "Adjacency list:\n",
      "W0:[W1(1)]\n",
      "W1:[W0(1), W2(1)]\n",
      "W2:[W1(1), NP3(1)]\n",
      "NP3:[W2(1)]\n",
      "\n"
     ]
    },
    {
     "data": {
      "image/png": "[encoded data removed]",
      "text/plain": [
       "<PIL.PngImagePlugin.PngImageFile image mode=RGBA size=83x407 at 0x183ECBA90>"
      ]
     },
     "execution_count": 8,
     "metadata": {},
     "output_type": "execute_result"
    }
   ],
   "source": [
    "sg = pg.subgraph_patterns['1_WWW#_18']\n",
    "print(sg.general_report())\n",
    "sg.subgraph_to_Image()"
   ]
  },
  {
   "cell_type": "markdown",
   "id": "dadbb39c",
   "metadata": {},
   "source": [
    "## Analysis: Protein Subgraphs\n",
    "To identify the specific residues in each PDB involved in the identified patterns, one should first call `find_protein_subgraphs`, and the identified **protein subgraphs** are stored in the `protein_subgraphs` dictionary."
   ]
  },
  {
   "cell_type": "code",
   "execution_count": 9,
   "id": "58ff49a0",
   "metadata": {},
   "outputs": [
    {
     "data": {
      "text/plain": [
       "{'4U63_1': <networkx.classes.graph.Graph at 0x18405c730>,\n",
       " '4U63_2': <networkx.classes.graph.Graph at 0x183ecb4c0>,\n",
       " '4U63_3': <networkx.classes.graph.Graph at 0x183fcc190>,\n",
       " '4U63_4': <networkx.classes.graph.Graph at 0x183fcc070>,\n",
       " '4U63_5': <networkx.classes.graph.Graph at 0x184037340>,\n",
       " '6KII_6': <networkx.classes.graph.Graph at 0x183fcc4f0>,\n",
       " '3ZXS_7': <networkx.classes.graph.Graph at 0x184037a00>,\n",
       " '6KII_8': <networkx.classes.graph.Graph at 0x183fcc8b0>,\n",
       " '3ZXS_9': <networkx.classes.graph.Graph at 0x184037130>,\n",
       " '4U63_10': <networkx.classes.graph.Graph at 0x18405cbb0>,\n",
       " '4U63_11': <networkx.classes.graph.Graph at 0x18403c310>,\n",
       " '6KII_12': <networkx.classes.graph.Graph at 0x183fcc790>,\n",
       " '6LZ3_13': <networkx.classes.graph.Graph at 0x183fccaf0>,\n",
       " '1U3C_14': <networkx.classes.graph.Graph at 0x184030a30>,\n",
       " '1U3D_15': <networkx.classes.graph.Graph at 0x184037610>,\n",
       " '6KII_16': <networkx.classes.graph.Graph at 0x183fcc670>,\n",
       " '1NP7_17': <networkx.classes.graph.Graph at 0x18405c100>,\n",
       " '6KII_18': <networkx.classes.graph.Graph at 0x183fcc4c0>,\n",
       " '6KII_19': <networkx.classes.graph.Graph at 0x183fcc6a0>,\n",
       " '4U63_20': <networkx.classes.graph.Graph at 0x183fcc1f0>,\n",
       " '3FY4_21': <networkx.classes.graph.Graph at 0x184037490>,\n",
       " '6FN2_22': <networkx.classes.graph.Graph at 0x183fcc220>,\n",
       " '6KII_23': <networkx.classes.graph.Graph at 0x183fcc850>,\n",
       " '4U63_24': <networkx.classes.graph.Graph at 0x18405c310>,\n",
       " '1NP7_25': <networkx.classes.graph.Graph at 0x18405c340>,\n",
       " '1QNF_26': <networkx.classes.graph.Graph at 0x18405ceb0>,\n",
       " '4U63_27': <networkx.classes.graph.Graph at 0x18405c460>,\n",
       " '1QNF_28': <networkx.classes.graph.Graph at 0x18405cee0>,\n",
       " '6PU0_29': <networkx.classes.graph.Graph at 0x183fccbb0>,\n",
       " '4GU5_30': <networkx.classes.graph.Graph at 0x184037af0>,\n",
       " '4I6G_31': <networkx.classes.graph.Graph at 0x184037d60>,\n",
       " '2WB2_32': <networkx.classes.graph.Graph at 0x184050190>,\n",
       " '4U63_33': <networkx.classes.graph.Graph at 0x18403cb80>,\n",
       " '1DNP_34': <networkx.classes.graph.Graph at 0x18405c430>,\n",
       " '1NP7_35': <networkx.classes.graph.Graph at 0x18405c970>,\n",
       " '6KII_36': <networkx.classes.graph.Graph at 0x183fcc730>,\n",
       " '2J4D_37': <networkx.classes.graph.Graph at 0x184030a60>,\n",
       " '6KII_38': <networkx.classes.graph.Graph at 0x183fcc7f0>,\n",
       " '1NP7_39': <networkx.classes.graph.Graph at 0x18405c910>,\n",
       " '2J4D_40': <networkx.classes.graph.Graph at 0x18403ce50>,\n",
       " '1NP7_41': <networkx.classes.graph.Graph at 0x18405c850>,\n",
       " '6PU0_42': <networkx.classes.graph.Graph at 0x183fccdf0>,\n",
       " '1IQR_43': <networkx.classes.graph.Graph at 0x18405c610>,\n",
       " '4U63_44': <networkx.classes.graph.Graph at 0x1840506a0>,\n",
       " '1U3C_45': <networkx.classes.graph.Graph at 0x184037280>,\n",
       " '1U3D_46': <networkx.classes.graph.Graph at 0x184037640>,\n",
       " '1IQU_47': <networkx.classes.graph.Graph at 0x18405c3d0>,\n",
       " '4GU5_48': <networkx.classes.graph.Graph at 0x184037d00>,\n",
       " '4U63_49': <networkx.classes.graph.Graph at 0x183fcc280>,\n",
       " '6LZ3_50': <networkx.classes.graph.Graph at 0x183fccb20>,\n",
       " '1U3D_51': <networkx.classes.graph.Graph at 0x184037670>,\n",
       " '4I6G_52': <networkx.classes.graph.Graph at 0x184037f70>,\n",
       " '1QNF_53': <networkx.classes.graph.Graph at 0x18405cb50>,\n",
       " '1U3C_54': <networkx.classes.graph.Graph at 0x1840370a0>,\n",
       " '2WB2_55': <networkx.classes.graph.Graph at 0x184050700>,\n",
       " '6FN2_56': <networkx.classes.graph.Graph at 0x183fcc0d0>,\n",
       " '1NP7_57': <networkx.classes.graph.Graph at 0x18405cbe0>,\n",
       " '4U63_58': <networkx.classes.graph.Graph at 0x183fcc0a0>,\n",
       " '3FY4_59': <networkx.classes.graph.Graph at 0x184037760>,\n",
       " '3ZXS_60': <networkx.classes.graph.Graph at 0x184037040>,\n",
       " '1NP7_61': <networkx.classes.graph.Graph at 0x18405c2b0>,\n",
       " '4U63_62': <networkx.classes.graph.Graph at 0x183fcc1c0>,\n",
       " '3FY4_63': <networkx.classes.graph.Graph at 0x1840370d0>,\n",
       " '4U63_64': <networkx.classes.graph.Graph at 0x1840305e0>,\n",
       " '3ZXS_65': <networkx.classes.graph.Graph at 0x184037a60>,\n",
       " '6FN2_66': <networkx.classes.graph.Graph at 0x183fcc460>,\n",
       " '1QNF_67': <networkx.classes.graph.Graph at 0x18405ce80>,\n",
       " '6PU0_68': <networkx.classes.graph.Graph at 0x1840504f0>,\n",
       " '4U63_69': <networkx.classes.graph.Graph at 0x184030d00>,\n",
       " '4U63_70': <networkx.classes.graph.Graph at 0x1840306d0>,\n",
       " '4I6G_71': <networkx.classes.graph.Graph at 0x184037f40>,\n",
       " '1NP7_72': <networkx.classes.graph.Graph at 0x18405cc70>,\n",
       " '4GU5_73': <networkx.classes.graph.Graph at 0x184037cd0>,\n",
       " '2J4D_74': <networkx.classes.graph.Graph at 0x1840302b0>,\n",
       " '4U63_75': <networkx.classes.graph.Graph at 0x18403c130>,\n",
       " '2WB2_76': <networkx.classes.graph.Graph at 0x181401c70>,\n",
       " '1NP7_77': <networkx.classes.graph.Graph at 0x18405cc40>,\n",
       " '4U63_78': <networkx.classes.graph.Graph at 0x183fe94f0>,\n",
       " '1U3C_79': <networkx.classes.graph.Graph at 0x184037190>,\n",
       " '1QNF_80': <networkx.classes.graph.Graph at 0x18405cf70>,\n",
       " '1U3D_81': <networkx.classes.graph.Graph at 0x1840372e0>,\n",
       " '1U3D_82': <networkx.classes.graph.Graph at 0x183ecbd00>,\n",
       " '1U3C_83': <networkx.classes.graph.Graph at 0x1840372b0>,\n",
       " '1U3D_84': <networkx.classes.graph.Graph at 0x18405c370>,\n",
       " '1U3C_85': <networkx.classes.graph.Graph at 0x184037310>,\n",
       " '1IQR_86': <networkx.classes.graph.Graph at 0x18405c5e0>,\n",
       " '6LZ3_87': <networkx.classes.graph.Graph at 0x183fcc6d0>,\n",
       " '6LZ3_88': <networkx.classes.graph.Graph at 0x183fcc700>,\n",
       " '1IQU_89': <networkx.classes.graph.Graph at 0x18405c820>,\n",
       " '1U3C_90': <networkx.classes.graph.Graph at 0x184037070>,\n",
       " '4GU5_91': <networkx.classes.graph.Graph at 0x184037b20>,\n",
       " '1U3D_92': <networkx.classes.graph.Graph at 0x1840373a0>,\n",
       " '1QNF_93': <networkx.classes.graph.Graph at 0x18405cca0>,\n",
       " '4U63_94': <networkx.classes.graph.Graph at 0x183e79190>,\n",
       " '2WB2_95': <networkx.classes.graph.Graph at 0x184050ee0>,\n",
       " '6KII_96': <networkx.classes.graph.Graph at 0x183fcc640>,\n",
       " '3FY4_97': <networkx.classes.graph.Graph at 0x1840377c0>,\n",
       " '1NP7_98': <networkx.classes.graph.Graph at 0x18405c160>,\n",
       " '3FY4_99': <networkx.classes.graph.Graph at 0x184037430>,\n",
       " '1IQR_100': <networkx.classes.graph.Graph at 0x18405c550>,\n",
       " '6LZ3_101': <networkx.classes.graph.Graph at 0x183fccb50>,\n",
       " '3FY4_102': <networkx.classes.graph.Graph at 0x184037550>,\n",
       " '1IQU_103': <networkx.classes.graph.Graph at 0x18403cfd0>,\n",
       " '1QNF_104': <networkx.classes.graph.Graph at 0x18405cf10>,\n",
       " '3FY4_105': <networkx.classes.graph.Graph at 0x1840371f0>,\n",
       " '4U63_106': <networkx.classes.graph.Graph at 0x18405c640>,\n",
       " '1U3C_107': <networkx.classes.graph.Graph at 0x184037250>,\n",
       " '1U3D_108': <networkx.classes.graph.Graph at 0x184037700>}"
      ]
     },
     "execution_count": 9,
     "metadata": {},
     "output_type": "execute_result"
    }
   ],
   "source": [
    "sg.find_protein_subgraphs()\n",
    "sg.protein_subgraphs"
   ]
  },
  {
   "cell_type": "code",
   "execution_count": 10,
   "id": "f8fd1f5e",
   "metadata": {},
   "outputs": [
    {
     "ename": "KeyError",
     "evalue": "'1U3D_50'",
     "output_type": "error",
     "traceback": [
      "\u001b[0;31m---------------------------------------------------------------------------\u001b[0m",
      "\u001b[0;31mKeyError\u001b[0m                                  Traceback (most recent call last)",
      "\u001b[0;32m/var/folders/4f/98d3nwv96070jdg5z8tr00g00000gn/T/ipykernel_20332/2104553646.py\u001b[0m in \u001b[0;36m<module>\u001b[0;34m\u001b[0m\n\u001b[0;32m----> 1\u001b[0;31m \u001b[0msg\u001b[0m\u001b[0;34m.\u001b[0m\u001b[0msubgraph_to_Image\u001b[0m\u001b[0;34m(\u001b[0m\u001b[0;34m'1U3D_50'\u001b[0m\u001b[0;34m)\u001b[0m\u001b[0;34m\u001b[0m\u001b[0;34m\u001b[0m\u001b[0m\n\u001b[0m",
      "\u001b[0;32m~/Documents/work/emap/pyemap/pyemap/graph_mining/frequent_subgraph.py\u001b[0m in \u001b[0;36msubgraph_to_Image\u001b[0;34m(self, id)\u001b[0m\n\u001b[1;32m    430\u001b[0m             \u001b[0mG\u001b[0m \u001b[0;34m=\u001b[0m \u001b[0mself\u001b[0m\u001b[0;34m.\u001b[0m\u001b[0mG\u001b[0m\u001b[0;34m.\u001b[0m\u001b[0mcopy\u001b[0m\u001b[0;34m(\u001b[0m\u001b[0;34m)\u001b[0m\u001b[0;34m\u001b[0m\u001b[0;34m\u001b[0m\u001b[0m\n\u001b[1;32m    431\u001b[0m         \u001b[0;32melse\u001b[0m\u001b[0;34m:\u001b[0m\u001b[0;34m\u001b[0m\u001b[0;34m\u001b[0m\u001b[0m\n\u001b[0;32m--> 432\u001b[0;31m             \u001b[0mG\u001b[0m \u001b[0;34m=\u001b[0m \u001b[0mself\u001b[0m\u001b[0;34m.\u001b[0m\u001b[0mprotein_subgraphs\u001b[0m\u001b[0;34m[\u001b[0m\u001b[0mid\u001b[0m\u001b[0;34m]\u001b[0m\u001b[0;34m.\u001b[0m\u001b[0mcopy\u001b[0m\u001b[0;34m(\u001b[0m\u001b[0;34m)\u001b[0m\u001b[0;34m\u001b[0m\u001b[0;34m\u001b[0m\u001b[0m\n\u001b[0m\u001b[1;32m    433\u001b[0m         \u001b[0mmake_pretty_subgraph\u001b[0m\u001b[0;34m(\u001b[0m\u001b[0mG\u001b[0m\u001b[0;34m)\u001b[0m\u001b[0;34m\u001b[0m\u001b[0;34m\u001b[0m\u001b[0m\n\u001b[1;32m    434\u001b[0m         \u001b[0magraph\u001b[0m \u001b[0;34m=\u001b[0m \u001b[0mto_agraph\u001b[0m\u001b[0;34m(\u001b[0m\u001b[0mG\u001b[0m\u001b[0;34m)\u001b[0m\u001b[0;34m\u001b[0m\u001b[0;34m\u001b[0m\u001b[0m\n",
      "\u001b[0;31mKeyError\u001b[0m: '1U3D_50'"
     ]
    }
   ],
   "source": [
    "sg.subgraph_to_Image('1U3D_51')"
   ]
  },
  {
   "cell_type": "markdown",
   "id": "0e474380",
   "metadata": {},
   "source": [
    "### Clustering\n",
    "Protein subgraphs are clustered into groups based on sequence or structural similarity. By default, structural clustering is used, and this can be switched to sequence using `set_clustering`."
   ]
  },
  {
   "cell_type": "code",
   "execution_count": null,
   "id": "5b63a01f",
   "metadata": {},
   "outputs": [],
   "source": [
    "print(sg.groups)"
   ]
  },
  {
   "cell_type": "code",
   "execution_count": null,
   "id": "c0d311cc",
   "metadata": {},
   "outputs": [],
   "source": [
    "sg.set_clustering(\"sequence\")\n",
    "print(sg.groups)"
   ]
  },
  {
   "cell_type": "markdown",
   "id": "33cfcca2",
   "metadata": {},
   "source": [
    "### Visualize in nglview"
   ]
  },
  {
   "cell_type": "code",
   "execution_count": 11,
   "id": "2df77105",
   "metadata": {},
   "outputs": [
    {
     "data": {
      "application/vnd.jupyter.widget-view+json": {
       "model_id": "52c6a53b88dd4828b0a36fc2876a87e7",
       "version_major": 2,
       "version_minor": 0
      },
      "text/plain": []
     },
     "metadata": {},
     "output_type": "display_data"
    },
    {
     "data": {
      "application/vnd.jupyter.widget-view+json": {
       "model_id": "ab52a268dc2a4b8f86c9fb69e71db5d8",
       "version_major": 2,
       "version_minor": 0
      },
      "text/plain": [
       "NGLWidget()"
      ]
     },
     "metadata": {},
     "output_type": "display_data"
    }
   ],
   "source": [
    "import nglview as nv\n",
    "view = nv.show_file(sg.support['1U3D'].file_path)\n",
    "view.clear_representations()\n",
    "view.add_cartoon(color=\"lightgray\")\n",
    "sg.visualize_subgraph_in_nglview('1U3D_51',view)\n",
    "view"
   ]
  },
  {
   "cell_type": "code",
   "execution_count": null,
   "id": "fae3d713",
   "metadata": {},
   "outputs": [],
   "source": [
    "print(type(view))"
   ]
  },
  {
   "cell_type": "code",
   "execution_count": null,
   "id": "0c3ad722",
   "metadata": {},
   "outputs": [],
   "source": [
    "print(sg.support['1U3D'].sequences)"
   ]
  },
  {
   "cell_type": "code",
   "execution_count": null,
   "id": "8841f520",
   "metadata": {},
   "outputs": [],
   "source": []
  }
 ],
 "metadata": {
  "kernelspec": {
   "display_name": "Python 3 (ipykernel)",
   "language": "python",
   "name": "python3"
  },
  "language_info": {
   "codemirror_mode": {
    "name": "ipython",
    "version": 3
   },
   "file_extension": ".py",
   "mimetype": "text/x-python",
   "name": "python",
   "nbconvert_exporter": "python",
   "pygments_lexer": "ipython3",
   "version": "3.9.7"
  }
 },
 "nbformat": 4,
 "nbformat_minor": 5
}
