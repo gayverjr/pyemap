{
 "cells": [
  {
   "cell_type": "markdown",
   "id": "fabf39e6",
   "metadata": {},
   "source": [
    "# Protein Graph Mining: Basic Usage"
   ]
  },
  {
   "cell_type": "markdown",
   "id": "37547a35",
   "metadata": {},
   "source": [
    "## Parsing"
   ]
  },
  {
   "cell_type": "markdown",
   "id": "80f2ab0c",
   "metadata": {},
   "source": [
    "The first step of graph mining with PyeMap is to create a `PDBGroup` object, and populate it `emap` objects for the PDBs of interest. Here, we'll fetch and parse a small set of flavoprotein PDBs."
   ]
  },
  {
   "cell_type": "code",
   "execution_count": 7,
   "id": "5769b093",
   "metadata": {},
   "outputs": [],
   "source": [
    "import pyemap \n",
    "import warnings\n",
    "warnings.filterwarnings(\"ignore\")\n",
    "from pyemap.graph_mining import PDBGroup \n",
    "pdb_ids = ['1X0P', '1DNP', '1EFP', '1G28', '1IQR', '1IQU', '1NP7', '1O96', '1O97', '1QNF', '1U3C', '1U3D', '2IYG', '2J4D', '2WB2', '2Z6C', '3FY4', '3ZXS', '4EER', '4GU5', '4I6G', '4U63', '6FN2', '6KII', '6LZ3', '6PU0', '6RKF'] \n",
    "pg = PDBGroup('My Group') \n",
    "for pdb in pdb_ids: \n",
    "    pg.add_emap(pyemap.fetch_and_parse(pdb,quiet=True)) "
   ]
  },
  {
   "cell_type": "markdown",
   "id": "ee4c446f",
   "metadata": {},
   "source": [
    "## Generating Protein Graphs"
   ]
  },
  {
   "cell_type": "markdown",
   "id": "4863f863",
   "metadata": {},
   "source": [
    "The next step is to generate the graphs for each PDB. One can specify the chains, ET active moieties, residues, and any other kwargs from `pyemap.process`."
   ]
  },
  {
   "cell_type": "code",
   "execution_count": 8,
   "id": "500824ac",
   "metadata": {},
   "outputs": [],
   "source": [
    "process_kwargs = {'sdef': None, 'dist_def': 'COM', 'rsa_thresh': 0.05, 'rd_thresh': 3.03, 'distance_cutoff': 20.0, 'percent_edges': 1.0, 'edge_prune': 'DEGREE', 'num_st_dev_edges': 1.0, 'coef_alpha': 1.0, 'exp_beta': 2.3, 'r_offset': 0.0} \n",
    "chains = {'1X0P': ['A'], '1DNP': ['A'], '1EFP': ['A'], '1G28': ['A'], '1IQR': ['A'], '1IQU': ['A'], '1NP7': ['A'], '1O96': ['A'], '1O97': ['C'], '1QNF': ['A'], '1U3C': ['A'], '1U3D': ['A'], '2IYG': ['A'], '2J4D': ['A'], '2WB2': ['A'], '2Z6C': ['A'], '3FY4': ['A'], '3ZXS': ['A'], '4EER': ['A'], '4GU5': ['A'], '4I6G': ['A'], '4U63': ['A'], '6FN2': ['A'], '6KII': ['A'], '6LZ3': ['A'], '6PU0': ['A'], '6RKF': ['A']} \n",
    "include_residues = ['W', 'Y'] \n",
    "included_eta_moieties = {'1X0P': ['FAD9150(A)'], '1DNP': ['FAD472(A)-1', 'FAD472(A)-2', 'MHF473(A)'], '1EFP': ['FAD399(A)-1', 'FAD399(A)-2', 'AMP400(A)'], '1G28': ['FMN1033(A)'], '1IQR': ['FAD421(A)-1', 'FAD421(A)-2'], '1IQU': ['TDR500(A)', 'FAD421(A)-1', 'FAD421(A)-2'], '1NP7': ['FAD500(A)-1', 'FAD500(A)-2'], '1O96': ['AMP1263(A)'], '1O97': ['AMP1262(C)'], '1QNF': ['FAD485(A)-1', 'FAD485(A)-2', 'HDF486(A)'], '1U3C': ['FAD510(A)-1', 'FAD510(A)-2'], '1U3D': ['FAD510(A)-1', 'FAD510(A)-2', 'ANP511(A)'], '2IYG': ['FMN1122(A)'], '2J4D': ['FAD1498(A)-1', 'FAD1498(A)-2', 'MHF1499(A)-1', 'MHF1499(A)-2'], '2WB2': ['FAD1510(A)-1', 'FAD1510(A)-2'], '2Z6C': ['FMN500(A)'], '3FY4': ['IMD901(A)', 'IMD902(A)', 'IMD905(A)', 'FAD900(A)-1', 'FAD900(A)-2'], '3ZXS': ['FAD1509(A)-1', 'FAD1509(A)-2', 'DLZ1511(A)', 'SF41510(A)'], '4EER': ['FMN1001(A)'], '4GU5': ['FAD602(A)-1', 'FAD602(A)-2'], '4I6G': ['FAD900(A)-1', 'FAD900(A)-2'], '4U63': ['MHF1001(A)', 'FAD1002(A)-1', 'FAD1002(A)-2'], '6FN2': ['FAD601(A)-1', 'FAD601(A)-2', 'HDF602(A)'], '6KII': ['FAD501(A)-1', 'FAD501(A)-2', 'MHF502(A)-1', 'MHF502(A)-2'], '6LZ3': ['FAD701(A)-1', 'FAD701(A)-2'], '6PU0': ['FAD501(A)-1', 'FAD501(A)-2'], '6RKF': ['FAD401(A)-1', 'FAD401(A)-2']} "
   ]
  },
  {
   "cell_type": "markdown",
   "id": "fa522f88",
   "metadata": {},
   "source": [
    "Call `process.emaps` to generate graphs for all of the PDBs."
   ]
  },
  {
   "cell_type": "code",
   "execution_count": 9,
   "id": "a7cdaf8f",
   "metadata": {},
   "outputs": [],
   "source": [
    "pg.process_emaps(chains=chains, eta_moieties=included_eta_moieties, include_residues=include_residues, **process_kwargs) "
   ]
  },
  {
   "cell_type": "markdown",
   "id": "d4596888",
   "metadata": {},
   "source": [
    "## Generate graph database\n",
    "The next step is to classify the nodes and edges. One can define \"substitutions\" for nodes, and thresholds for edges."
   ]
  },
  {
   "cell_type": "code",
   "execution_count": 10,
   "id": "3ee09faa",
   "metadata": {},
   "outputs": [],
   "source": [
    "# W and Y will be interchangeable and given the label 'X'\n",
    "substitutions = ['W','Y']\n",
    "# edges with weights > 12 are distinguished from those with weights < 12\n",
    "edge_thresholds = [12] \n",
    "pg.generate_graph_database(sub=[],edge_thresh=edge_thresholds) "
   ]
  },
  {
   "cell_type": "markdown",
   "id": "be220868",
   "metadata": {},
   "source": [
    "## Mine for subgraphs\n",
    "There are two types of searches available in PyeMap. One can mine for all possible subgraphs:"
   ]
  },
  {
   "cell_type": "code",
   "execution_count": 11,
   "id": "44a55338",
   "metadata": {},
   "outputs": [],
   "source": [
    "pg.run_gspan(19)"
   ]
  },
  {
   "cell_type": "markdown",
   "id": "c7bc28fc",
   "metadata": {},
   "source": [
    "Or search for a specific pattern:"
   ]
  },
  {
   "cell_type": "code",
   "execution_count": 12,
   "id": "50abdfb5",
   "metadata": {},
   "outputs": [],
   "source": [
    "pg.find_subgraph('WWW#')"
   ]
  },
  {
   "cell_type": "markdown",
   "id": "a07eb45b",
   "metadata": {},
   "source": [
    "## Analysis: Subgraph Patterns\n",
    "The identified subgraphs are stored in the `subgraph_patterns` dictionary."
   ]
  },
  {
   "cell_type": "code",
   "execution_count": 13,
   "id": "0e0c2717",
   "metadata": {},
   "outputs": [
    {
     "data": {
      "text/plain": [
       "{'1_WWW#_18': <pyemap.graph_mining.frequent_subgraph.SubgraphPattern at 0x193620d60>,\n",
       " '2_WWW#_14': <pyemap.graph_mining.frequent_subgraph.SubgraphPattern at 0x191ed8cd0>,\n",
       " '3_WWW#_4': <pyemap.graph_mining.frequent_subgraph.SubgraphPattern at 0x1935f7c70>,\n",
       " '4_WWW#_2': <pyemap.graph_mining.frequent_subgraph.SubgraphPattern at 0x1850e6e50>,\n",
       " '5_WWW#_2': <pyemap.graph_mining.frequent_subgraph.SubgraphPattern at 0x1935f76d0>,\n",
       " '6_WWW#_2': <pyemap.graph_mining.frequent_subgraph.SubgraphPattern at 0x193620640>,\n",
       " '7_WWW#_1': <pyemap.graph_mining.frequent_subgraph.SubgraphPattern at 0x191ed8d00>}"
      ]
     },
     "execution_count": 13,
     "metadata": {},
     "output_type": "execute_result"
    }
   ],
   "source": [
    "pg.subgraph_patterns"
   ]
  },
  {
   "cell_type": "code",
   "execution_count": 14,
   "id": "fc719e23",
   "metadata": {},
   "outputs": [
    {
     "data": {
      "image/png": "[encoded data removed]",
      "text/plain": [
       "<PIL.PngImagePlugin.PngImageFile image mode=RGBA size=83x407 at 0x194830250>"
      ]
     },
     "execution_count": 14,
     "metadata": {},
     "output_type": "execute_result"
    }
   ],
   "source": [
    "sg = pg.subgraph_patterns['1_WWW#_18']\n",
    "sg.subgraph_to_Image()"
   ]
  },
  {
   "cell_type": "markdown",
   "id": "dadbb39c",
   "metadata": {},
   "source": [
    "## Analysis: Protein Subgraphs\n",
    "To identify the specific residues in each PDB involved in the identified patterns, one should first call `find_protein_subgraphs`, and the identified **protein subgraphs** are stored in the `protein_subgraphs` dictionary."
   ]
  },
  {
   "cell_type": "code",
   "execution_count": 27,
   "id": "58ff49a0",
   "metadata": {},
   "outputs": [
    {
     "name": "stdout",
     "output_type": "stream",
     "text": [
      "Number of protein subgraphs: 108\n"
     ]
    }
   ],
   "source": [
    "sg.find_protein_subgraphs()\n",
    "print(\"Number of protein subgraphs: {}\".format(len(sg.protein_subgraphs)))"
   ]
  },
  {
   "cell_type": "code",
   "execution_count": 29,
   "id": "f8fd1f5e",
   "metadata": {},
   "outputs": [
    {
     "name": "stdout",
     "output_type": "stream",
     "text": [
      "4U63_1\n"
     ]
    },
    {
     "data": {
      "image/png": "[encoded data removed]",
      "text/plain": [
       "<PIL.PngImagePlugin.PngImageFile image mode=RGBA size=280x291 at 0x194CEC580>"
      ]
     },
     "execution_count": 29,
     "metadata": {},
     "output_type": "execute_result"
    }
   ],
   "source": [
    "key = next(iter(sg.protein_subgraphs))\n",
    "print(key)\n",
    "sg.subgraph_to_Image(key)"
   ]
  },
  {
   "cell_type": "markdown",
   "id": "0e474380",
   "metadata": {},
   "source": [
    "### Clustering\n",
    "Protein subgraphs are clustered into groups based on sequence or structural similarity. By default, structural clustering is used, and this can be switched to sequence using `set_clustering`."
   ]
  },
  {
   "cell_type": "code",
   "execution_count": 30,
   "id": "5b63a01f",
   "metadata": {},
   "outputs": [
    {
     "name": "stdout",
     "output_type": "stream",
     "text": [
      "Number of groups: 67\n",
      "Size of largest group: 16\n"
     ]
    }
   ],
   "source": [
    "print(\"Number of groups: {}\".format(len(sg.groups)))\n",
    "print(\"Size of largest group: {}\".format(len(sg.groups[1])))"
   ]
  },
  {
   "cell_type": "code",
   "execution_count": 31,
   "id": "c0d311cc",
   "metadata": {},
   "outputs": [
    {
     "name": "stdout",
     "output_type": "stream",
     "text": [
      "Number of groups: 50\n",
      "Size of largest group: 18\n"
     ]
    }
   ],
   "source": [
    "sg.set_clustering(\"sequence\")\n",
    "print(\"Number of groups: {}\".format(len(sg.groups)))\n",
    "print(\"Size of largest group: {}\".format(len(sg.groups[1])))"
   ]
  },
  {
   "cell_type": "markdown",
   "id": "33cfcca2",
   "metadata": {},
   "source": [
    "### Visualize in nglview"
   ]
  },
  {
   "cell_type": "code",
   "execution_count": 32,
   "id": "2df77105",
   "metadata": {},
   "outputs": [
    {
     "data": {
      "application/vnd.jupyter.widget-view+json": {
       "model_id": "77cdc003fa2c4bc189e0dd80873c8996",
       "version_major": 2,
       "version_minor": 0
      },
      "text/plain": [
       "NGLWidget()"
      ]
     },
     "metadata": {},
     "output_type": "display_data"
    }
   ],
   "source": [
    "import nglview as nv\n",
    "view = nv.show_file(sg.support['1U3D'].file_path)\n",
    "view.clear_representations()\n",
    "view.add_cartoon(color=\"lightgray\")\n",
    "sg.visualize_subgraph_in_nglview('1U3D_50',view)\n",
    "view"
   ]
  }
 ],
 "metadata": {
  "kernelspec": {
   "display_name": "Python 3 (ipykernel)",
   "language": "python",
   "name": "python3"
  },
  "language_info": {
   "codemirror_mode": {
    "name": "ipython",
    "version": 3
   },
   "file_extension": ".py",
   "mimetype": "text/x-python",
   "name": "python",
   "nbconvert_exporter": "python",
   "pygments_lexer": "ipython3",
   "version": "3.9.10"
  }
 },
 "nbformat": 4,
 "nbformat_minor": 5
}
